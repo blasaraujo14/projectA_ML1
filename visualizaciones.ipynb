{
 "cells": [
  {
   "cell_type": "code",
   "execution_count": null,
   "id": "941d5006-b0d9-4644-970f-5567d255e1a2",
   "metadata": {
    "is_executing": true
   },
   "outputs": [],
   "source": [
    "using DataFrames;\n",
    "using CSV;"
   ]
  },
  {
   "cell_type": "code",
   "execution_count": null,
   "id": "a6c8898c",
   "metadata": {},
   "outputs": [],
   "source": [
    "df = CSV.read(\"support2.csv\", DataFrame, delim = ',');\n",
    "\n",
    "id_col = [\"id\"];\n",
    "target_cols = [\"death\", \"hospdead\"];\n",
    "ordinal_feats = [\"id\", \"edu\", \"income\", \"sfdm2\"];\n",
    "\n",
    "categorical_feats = names(df, Union{Missing, AbstractString});\n",
    "numerical_feats = names(select(df, Not(ordinal_feats)), Union{Missing, Number});"
   ]
  },
  {
   "cell_type": "markdown",
   "id": "2756d865",
   "metadata": {},
   "source": [
    "# PIE CHART"
   ]
  },
  {
   "cell_type": "code",
   "execution_count": null,
   "id": "3d6859f9",
   "metadata": {},
   "outputs": [],
   "source": [
    "using StatsPlots\n",
    "\n",
    "value_counts = combine(groupby(df, :sfdm2), nrow => :count)\n",
    "labels = value_counts.sfdm2   # Etiquetas\n",
    "values = value_counts.count      # Frecuencias\n",
    "\n",
    "pie(labels, values, title=\"Test\", autopct=\"%1.1f%%\")"
   ]
  },
  {
   "cell_type": "markdown",
   "id": "5b0fe343",
   "metadata": {},
   "source": [
    "# CORRELATION PLOTS"
   ]
  },
  {
   "cell_type": "code",
   "execution_count": null,
   "id": "0878505b",
   "metadata": {},
   "outputs": [],
   "source": [
    "cols = ordinal_feats\n",
    "\n",
    "df_clean = dropmissing(df, cols)\n",
    "\n",
    "M = cor(Matrix(df_clean[:, cols]))\n",
    "\n",
    "# Create a correlation heatmap\n",
    "heatmap(cols, cols, M, \n",
    "    title=\"Correlation Heatmap\",\n",
    "    xlabel=\"Features\",\n",
    "    ylabel=\"Features\",\n",
    "    color=:viridis,\n",
    "    aspect_ratio=:equal)\n",
    "\n",
    "# Alternative: Correlation plot with correlation values\n",
    "corrplot(Matrix(df_clean[:, cols]), \n",
    "    label=cols,\n",
    "    title=\"Correlation Plot\")"
   ]
  },
  {
   "cell_type": "code",
   "execution_count": null,
   "id": "b689ebd8",
   "metadata": {},
   "outputs": [],
   "source": [
    "### HEATMAP\n",
    "cols = numerical_feats              # define subset\n",
    "M = cor(Matrix(df[!,cols]))         # correlation matrix\n",
    "(n,m) = size(M)\n",
    "heatmap(M, fc=cgrad([:white,:dodgerblue4]), xticks=(1:m,cols), xrot=90, yticks=(1:m,cols), yflip=true)"
   ]
  }
 ],
 "metadata": {
  "kernelspec": {
   "display_name": "Julia 1.10.5",
   "language": "julia",
   "name": "julia-1.10"
  },
  "language_info": {
   "file_extension": ".jl",
   "mimetype": "application/julia",
   "name": "julia",
   "version": "1.10.5"
  }
 },
 "nbformat": 4,
 "nbformat_minor": 5
}
