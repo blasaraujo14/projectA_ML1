{
 "cells": [
  {
   "cell_type": "code",
   "execution_count": 1,
   "id": "3dce3bdc",
   "metadata": {},
   "outputs": [],
   "source": [
    "# Libraries\n",
    "using ScikitLearn;\n",
    "using DataFrames;\n",
    "using CSV;\n",
    "using Random;\n",
    "using Statistics;\n",
    "using StatsPlots;\n",
    "using Flux.Losses;\n",
    "using Flux;\n",
    "\n",
    "@sk_import impute: KNNImputer; # Imputation of missing values.\n",
    "@sk_import svm: SVC;\n",
    "@sk_import decomposition: PCA;\n",
    "@sk_import tree: DecisionTreeClassifier;\n",
    "@sk_import neighbors: KNeighborsClassifier;\n",
    "\n",
    "include(\"utils/fluxANNs.jl\"); # for ANN training with Flux\n",
    "include(\"utils/evaluation.jl\"); # for confusion matrix calculation and cross validation set partitioning\n",
    "include(\"utils/preprocessing.jl\"); # for normalization, one-hot encoding, holdout division\n",
    "include(\"utils/training.jl\"); # for crossvalidation methodology\n",
    "include(\"utils/visualizations.jl\"); # for plots\n",
    "\n",
    "# Set seed\n",
    "Random.seed!(10);"
   ]
  },
  {
   "cell_type": "markdown",
   "id": "cfcfaff8",
   "metadata": {},
   "source": [
    "# Hold-out partition"
   ]
  },
  {
   "cell_type": "code",
   "execution_count": 2,
   "id": "256dfd23-60da-4fea-acaa-947bc420611c",
   "metadata": {},
   "outputs": [],
   "source": [
    "# loading the dataset\n",
    "support2 = CSV.read(\"datasets/support2_cleaned.csv\", DataFrame, delim = ',');\n",
    "support2[:, \"hospdeath\"] = support2[:,\"death\"] + support2[:,\"hospdead\"];\n",
    "target_cols = [\"death\", \"hospdead\", \"hospdeath\"];\n",
    "\n",
    "trainIndex, testIndex = holdOut(nrow(support2), 0.2);\n",
    "\n",
    "trainInputs = Array(support2[trainIndex, Not(target_cols)]);\n",
    "testInputs = Array(support2[testIndex, Not(target_cols)]);\n",
    "\n",
    "trainTargets = Array(support2[trainIndex, \"hospdeath\"]);\n",
    "testTargets = Array(support2[testIndex, \"hospdeath\"]);\n",
    "\n",
    "# Kfold\n",
    "kFoldIndices = crossvalidation(trainTargets, 5);"
   ]
  },
  {
   "cell_type": "markdown",
   "id": "ad58f31f",
   "metadata": {},
   "source": [
    "# Imputation"
   ]
  },
  {
   "cell_type": "code",
   "execution_count": 3,
   "id": "26a4b129",
   "metadata": {},
   "outputs": [],
   "source": [
    "imputer = KNNImputer(n_neighbors = 5);\n",
    "\n",
    "trainInputs[:,1:32] = fit_transform!(imputer, trainInputs[:,1:32]);\n",
    "testInputs[:,1:32] = imputer.transform(testInputs[:,1:32]);"
   ]
  },
  {
   "cell_type": "markdown",
   "id": "4ff22d4d",
   "metadata": {},
   "source": [
    "# Visualizations"
   ]
  },
  {
   "cell_type": "code",
   "execution_count": 4,
   "id": "ce7ab592",
   "metadata": {},
   "outputs": [],
   "source": [
    "meanTrain, stdTrain = calculateZeroMeanNormalizationParameters(trainInputs[:,1:32]);\n",
    "numInputs = normalizeZeroMean!(trainInputs[:,1:32], (meanTrain, stdTrain));\n",
    "\n",
    "plot_correlations(numInputs);\n",
    "savefig(\"plots/correlations.png\");"
   ]
  },
  {
   "cell_type": "code",
   "execution_count": 24,
   "id": "a906445f",
   "metadata": {},
   "outputs": [],
   "source": [
    "# Train PCA on training dataset.\n",
    "pca = PCA(2);\n",
    "pcaInputs = fit_transform!(pca, numInputs);\n",
    "\n",
    "# Draw results\n",
    "draw_results(pcaInputs, oneHotEncoding(trainTargets); colors=[:green,:red, :blue], \n",
    "        target_names=[\"Died\", \"Survived\", \"Died at hospital\"]);\n",
    "savefig(\"plots/pca_multi.png\");"
   ]
  },
  {
   "cell_type": "markdown",
   "id": "af769bda-f993-43fa-a7e0-ea22c584ef00",
   "metadata": {},
   "source": [
    "# Binary approach"
   ]
  },
  {
   "cell_type": "markdown",
   "id": "4034c11c",
   "metadata": {},
   "source": [
    "- ANN"
   ]
  },
  {
   "cell_type": "code",
   "execution_count": null,
   "id": "310c71bc",
   "metadata": {},
   "outputs": [],
   "source": [
    "ANNparams2 = [Dict(\"topology\" => [12, 32], \"maxEpochs\" => 1000, \"minLoss\" => 0., \"learningRate\" => 0.01, \n",
    "                \"maxEpochsVal\" => 20, \"validationRatio\" => 0.1)]\n",
    "\n",
    "models = [(:ANN, ANNparams2)];\n",
    "bestMetricYet = 0;\n",
    "bestModel = -1;\n",
    "\n",
    "for (modelType, paramList) in models\n",
    "    cnt = 1;\n",
    "    println(\"Training \", modelType, \" models:\");\n",
    "    for params in paramList\n",
    "        (accur, fScore), (stdAccur, stdFScore) = modelCrossValidation(modelType, params, trainInputs,\n",
    "                                                                      trainTargets, kFoldIndices);\n",
    "        println(\"Configuration \", cnt);\n",
    "        println(\"Accuracy:\", accur, \", stdDev:\", stdAccur);\n",
    "        println(\"F1-Score:\", fScore, \", stdDev:\", stdFScore);\n",
    "        println();\n",
    "        cnt += 1;\n",
    "        #println(modelType, (accur, fScore), (stdAccur, stdFScore))\n",
    "        if accur * fScore > bestMetricYet\n",
    "            bestMetricYet = accur * fScore;\n",
    "            bestModel = (modelType, params);\n",
    "        end;\n",
    "    end;\n",
    "end;\n",
    "\n",
    "(modelType, params) = bestModel;\n",
    "println(\"Best model is \", modelType, \" with hyperparameters:\");\n",
    "println(params);"
   ]
  },
  {
   "cell_type": "markdown",
   "id": "36ec2155",
   "metadata": {},
   "source": [
    "- SVM"
   ]
  },
  {
   "cell_type": "code",
   "execution_count": null,
   "id": "7dd3da9e",
   "metadata": {},
   "outputs": [],
   "source": [
    "SVMparams = [Dict(\"kernel\" => \"rbf\", \"degree\" => 3, \"gamma\" => 2, \"C\" => 1),\n",
    "            Dict(\"kernel\" => \"rbf\", \"degree\" => 3, \"gamma\" => 30, \"C\" => 1), # higher gamma\n",
    "            Dict(\"kernel\" => \"sigmoid\", \"degree\" => 3, \"gamma\" => 2, \"C\" => 1),\n",
    "            Dict(\"kernel\" => \"poly\", \"degree\" => 3, \"gamma\" => 2, \"C\" => 1),\n",
    "            Dict(\"kernel\" => \"poly\", \"degree\" => 6, \"gamma\" => 2, \"C\" => 1)] # higher degree\n",
    "\n",
    "models = [(:SVM, SVMparams)];\n",
    "bestMetricYet = 0;\n",
    "bestModel = -1;\n",
    "\n",
    "for (modelType, paramList) in models\n",
    "    cnt = 1;\n",
    "    println(\"Training \", modelType, \" models:\");\n",
    "    for params in paramList\n",
    "        (accur, fScore), (stdAccur, stdFScore) = modelCrossValidation(modelType, params, trainInputs,\n",
    "                                                                      trainTargets, kFoldIndices);\n",
    "        println(\"Configuration \", cnt);\n",
    "        println(\"Accuracy:\", accur, \", stdDev:\", stdAccur);\n",
    "        println(\"F1-Score:\", fScore, \", stdDev:\", stdFScore);\n",
    "        println();\n",
    "        cnt += 1;\n",
    "        #println(modelType, (accur, fScore), (stdAccur, stdFScore))\n",
    "        if accur * fScore > bestMetricYet\n",
    "            bestMetricYet = accur * fScore;\n",
    "            bestModel = (modelType, params);\n",
    "        end;\n",
    "    end;\n",
    "end;\n",
    "\n",
    "(modelType, params) = bestModel;\n",
    "println(\"Best model is \", modelType, \" with hyperparameters:\");\n",
    "println(params);"
   ]
  },
  {
   "cell_type": "markdown",
   "id": "e7815b85",
   "metadata": {},
   "source": [
    "- DecisionTree"
   ]
  },
  {
   "cell_type": "code",
   "execution_count": 25,
   "id": "60b84bed",
   "metadata": {},
   "outputs": [
    {
     "name": "stdout",
     "output_type": "stream",
     "text": [
      "\n",
      "Training DTree models:\n",
      "Configuration 1\n",
      "Accuracy:0.8242464992017021, stdDev:0.009680393253705498\n",
      "F1-Score:0.8201326352040036, stdDev:0.0111022120671285\n",
      "\n",
      "Best model is DTree with hyperparameters:\n",
      "Dict(\"maxDepth\" => 4)\n"
     ]
    }
   ],
   "source": [
    "DTreeParams = [Dict(\"maxDepth\" => 4)]\n",
    "\n",
    "models = [(:DTree, DTreeParams)];\n",
    "bestMetricYet = 0;\n",
    "bestModel = -1;\n",
    "\n",
    "for (modelType, paramList) in models\n",
    "    cnt = 1;\n",
    "    println();\n",
    "    println(\"Training \", modelType, \" models:\");\n",
    "    for params in paramList\n",
    "        (accur, fScore), (stdAccur, stdFScore) = modelCrossValidation(modelType, params, trainInputs,\n",
    "                                                                      trainTargets, kFoldIndices);\n",
    "        println(\"Configuration \", cnt);\n",
    "        println(\"Accuracy:\", accur, \", stdDev:\", stdAccur);\n",
    "        println(\"F1-Score:\", fScore, \", stdDev:\", stdFScore);\n",
    "        println();\n",
    "        cnt += 1;\n",
    "        #println(modelType, (accur, fScore), (stdAccur, stdFScore))\n",
    "        if accur * fScore > bestMetricYet\n",
    "            bestMetricYet = accur * fScore;\n",
    "            bestModel = (modelType, params);\n",
    "        end;\n",
    "    end;\n",
    "end;\n",
    "\n",
    "(modelType, params) = bestModel;\n",
    "println(\"Best model is \", modelType, \" with hyperparameters:\");\n",
    "println(params);"
   ]
  },
  {
   "cell_type": "markdown",
   "id": "1186aef3",
   "metadata": {},
   "source": [
    "- KNN"
   ]
  },
  {
   "cell_type": "code",
   "execution_count": 26,
   "id": "9840348e",
   "metadata": {},
   "outputs": [
    {
     "name": "stdout",
     "output_type": "stream",
     "text": [
      "Training KNN models:\n",
      "Configuration 1\n",
      "Accuracy:0.7675055887344995, stdDev:0.017544684925476884\n",
      "F1-Score:0.7666030787135351, stdDev:0.017682985853871534\n",
      "\n",
      "Configuration 2\n",
      "Accuracy:0.7872953000169017, stdDev:0.011411894739570197\n",
      "F1-Score:0.7862048793141947, stdDev:0.011385734127817657\n",
      "\n",
      "Configuration 3\n",
      "Accuracy:0.789231197769446, stdDev:0.010935732595464044\n",
      "F1-Score:0.787848939956688, stdDev:0.011243929454209866\n",
      "\n",
      "Best model is KNN with hyperparameters:\n",
      "Dict(\"k\" => 12)\n"
     ]
    }
   ],
   "source": [
    "KNNparams = [Dict(\"k\" => 3), Dict(\"k\" => 6), Dict(\"k\" => 12)]\n",
    "\n",
    "models = [(:KNN, KNNparams)];\n",
    "bestMetricYet = 0;\n",
    "bestModel = -1;\n",
    "\n",
    "for (modelType, paramList) in models\n",
    "    cnt = 1;\n",
    "    println(\"Training \", modelType, \" models:\");\n",
    "    for params in paramList\n",
    "        (accur, fScore), (stdAccur, stdFScore) = modelCrossValidation(modelType, params, trainInputs,\n",
    "                                                                      trainTargets, kFoldIndices);\n",
    "        println(\"Configuration \", cnt);\n",
    "        println(\"Accuracy:\", accur, \", stdDev:\", stdAccur);\n",
    "        println(\"F1-Score:\", fScore, \", stdDev:\", stdFScore);\n",
    "        println();\n",
    "        cnt += 1;\n",
    "        #println(modelType, (accur, fScore), (stdAccur, stdFScore))\n",
    "        if accur * fScore > bestMetricYet\n",
    "            bestMetricYet = accur * fScore;\n",
    "            bestModel = (modelType, params);\n",
    "        end;\n",
    "    end;\n",
    "end;\n",
    "\n",
    "(modelType, params) = bestModel;\n",
    "println(\"Best model is \", modelType, \" with hyperparameters:\");\n",
    "\n",
    "println(params);"
   ]
  },
  {
   "cell_type": "markdown",
   "id": "069adeb1-1167-4bd3-be17-adb95a9954f6",
   "metadata": {},
   "source": [
    "- Ensemble"
   ]
  },
  {
   "cell_type": "code",
   "execution_count": null,
   "id": "ca3270a0-cac6-4c56-9178-8c5b02b86464",
   "metadata": {},
   "outputs": [
    {
     "name": "stderr",
     "output_type": "stream",
     "text": [
      "Exception ignored on calling ctypes callback function: <function _ThreadpoolInfo._find_modules_with_dl_iterate_phdr.<locals>.match_module_callback at 0x7a7e57d6f2e0>\n",
      "Traceback (most recent call last):\n",
      "  File \"/home/marcos/anaconda3/lib/python3.12/site-packages/threadpoolctl.py\", line 400, in match_module_callback\n",
      "    self._make_module_from_path(filepath)\n",
      "  File \"/home/marcos/anaconda3/lib/python3.12/site-packages/threadpoolctl.py\", line 515, in _make_module_from_path\n",
      "    module = module_class(filepath, prefix, user_api, internal_api)\n",
      "             ^^^^^^^^^^^^^^^^^^^^^^^^^^^^^^^^^^^^^^^^^^^^^^^^^^^^^^\n",
      "  File \"/home/marcos/anaconda3/lib/python3.12/site-packages/threadpoolctl.py\", line 606, in __init__\n",
      "    self.version = self.get_version()\n",
      "                   ^^^^^^^^^^^^^^^^^^\n",
      "  File \"/home/marcos/anaconda3/lib/python3.12/site-packages/threadpoolctl.py\", line 646, in get_version\n",
      "    config = get_config().split()\n",
      "             ^^^^^^^^^^^^^^^^^^\n",
      "AttributeError: 'NoneType' object has no attribute 'split'\n",
      "Exception ignored on calling ctypes callback function: <function _ThreadpoolInfo._find_modules_with_dl_iterate_phdr.<locals>.match_module_callback at 0x7a7e73d4a700>\n",
      "Traceback (most recent call last):\n",
      "  File \"/home/marcos/anaconda3/lib/python3.12/site-packages/threadpoolctl.py\", line 400, in match_module_callback\n",
      "    self._make_module_from_path(filepath)\n",
      "  File \"/home/marcos/anaconda3/lib/python3.12/site-packages/threadpoolctl.py\", line 515, in _make_module_from_path\n",
      "    module = module_class(filepath, prefix, user_api, internal_api)\n",
      "             ^^^^^^^^^^^^^^^^^^^^^^^^^^^^^^^^^^^^^^^^^^^^^^^^^^^^^^\n",
      "  File \"/home/marcos/anaconda3/lib/python3.12/site-packages/threadpoolctl.py\", line 606, in __init__\n",
      "    self.version = self.get_version()\n",
      "                   ^^^^^^^^^^^^^^^^^^\n",
      "  File \"/home/marcos/anaconda3/lib/python3.12/site-packages/threadpoolctl.py\", line 646, in get_version\n",
      "    config = get_config().split()\n",
      "             ^^^^^^^^^^^^^^^^^^\n",
      "AttributeError: 'NoneType' object has no attribute 'split'\n",
      "Exception ignored on calling ctypes callback function: <function _ThreadpoolInfo._find_modules_with_dl_iterate_phdr.<locals>.match_module_callback at 0x7a7e73d4a700>\n",
      "Traceback (most recent call last):\n",
      "  File \"/home/marcos/anaconda3/lib/python3.12/site-packages/threadpoolctl.py\", line 400, in match_module_callback\n",
      "    self._make_module_from_path(filepath)\n",
      "  File \"/home/marcos/anaconda3/lib/python3.12/site-packages/threadpoolctl.py\", line 515, in _make_module_from_path\n",
      "    module = module_class(filepath, prefix, user_api, internal_api)\n",
      "             ^^^^^^^^^^^^^^^^^^^^^^^^^^^^^^^^^^^^^^^^^^^^^^^^^^^^^^\n",
      "  File \"/home/marcos/anaconda3/lib/python3.12/site-packages/threadpoolctl.py\", line 606, in __init__\n",
      "    self.version = self.get_version()\n",
      "                   ^^^^^^^^^^^^^^^^^^\n",
      "  File \"/home/marcos/anaconda3/lib/python3.12/site-packages/threadpoolctl.py\", line 646, in get_version\n",
      "    config = get_config().split()\n",
      "             ^^^^^^^^^^^^^^^^^^\n",
      "AttributeError: 'NoneType' object has no attribute 'split'\n",
      "Exception ignored on calling ctypes callback function: <function _ThreadpoolInfo._find_modules_with_dl_iterate_phdr.<locals>.match_module_callback at 0x7a7e57d9a480>\n",
      "Traceback (most recent call last):\n",
      "  File \"/home/marcos/anaconda3/lib/python3.12/site-packages/threadpoolctl.py\", line 400, in match_module_callback\n",
      "    self._make_module_from_path(filepath)\n",
      "  File \"/home/marcos/anaconda3/lib/python3.12/site-packages/threadpoolctl.py\", line 515, in _make_module_from_path\n",
      "    module = module_class(filepath, prefix, user_api, internal_api)\n",
      "             ^^^^^^^^^^^^^^^^^^^^^^^^^^^^^^^^^^^^^^^^^^^^^^^^^^^^^^\n",
      "  File \"/home/marcos/anaconda3/lib/python3.12/site-packages/threadpoolctl.py\", line 606, in __init__\n",
      "    self.version = self.get_version()\n",
      "                   ^^^^^^^^^^^^^^^^^^\n",
      "  File \"/home/marcos/anaconda3/lib/python3.12/site-packages/threadpoolctl.py\", line 646, in get_version\n",
      "    config = get_config().split()\n",
      "             ^^^^^^^^^^^^^^^^^^\n",
      "AttributeError: 'NoneType' object has no attribute 'split'\n",
      "Exception ignored on calling ctypes callback function: <function _ThreadpoolInfo._find_modules_with_dl_iterate_phdr.<locals>.match_module_callback at 0x7a7e57d6f2e0>\n",
      "Traceback (most recent call last):\n",
      "  File \"/home/marcos/anaconda3/lib/python3.12/site-packages/threadpoolctl.py\", line 400, in match_module_callback\n",
      "    self._make_module_from_path(filepath)\n",
      "  File \"/home/marcos/anaconda3/lib/python3.12/site-packages/threadpoolctl.py\", line 515, in _make_module_from_path\n",
      "    module = module_class(filepath, prefix, user_api, internal_api)\n",
      "             ^^^^^^^^^^^^^^^^^^^^^^^^^^^^^^^^^^^^^^^^^^^^^^^^^^^^^^\n",
      "  File \"/home/marcos/anaconda3/lib/python3.12/site-packages/threadpoolctl.py\", line 606, in __init__\n",
      "    self.version = self.get_version()\n",
      "                   ^^^^^^^^^^^^^^^^^^\n",
      "  File \"/home/marcos/anaconda3/lib/python3.12/site-packages/threadpoolctl.py\", line 646, in get_version\n",
      "    config = get_config().split()\n",
      "             ^^^^^^^^^^^^^^^^^^\n",
      "AttributeError: 'NoneType' object has no attribute 'split'\n"
     ]
    },
    {
     "data": {
      "text/plain": [
       "([0.8887434676167014 0.40990231896998586], [0.006747966721490579 0.19243679872447852])"
      ]
     },
     "execution_count": 17,
     "metadata": {},
     "output_type": "execute_result"
    }
   ],
   "source": [
    "@sk_import ensemble:StackingClassifier\n",
    "\n",
    "# An ANN flux model cannot be included in a Scikit ensemble due to PyCall wrapping issues\n",
    "modelsEnsemble = [:KNN, :DTree, :SVM]\n",
    "params = []\n",
    "DTreeParams = Dict(\"maxDepth\" => 8)\n",
    "KNNparams = Dict(\"k\" => 6)\n",
    "SVMparams = Dict(\"kernel\" => \"rbf\", \"degree\" => 3, \"gamma\" => 2, \"C\" => 1)\n",
    "\n",
    "\n",
    "params = Vector{Dict}([KNNparams, DTreeParams, SVMparams])\n",
    "\n",
    "trainClassEnsemble(modelsEnsemble, params, (trainInputs, reshape(trainTargets, length(trainTargets), 1)),\n",
    "                   crossvalidation(trainTargets, 5))"
   ]
  },
  {
   "cell_type": "code",
   "execution_count": null,
   "id": "62fdbe2a",
   "metadata": {},
   "outputs": [],
   "source": [
    "using Plots;\n",
    "\n",
    "# train best model with all paterns and build confusion matrix with all patterns\n",
    "modelType = :ANN \n",
    "params = [Dict(\"topology\" => [12, 32], \"maxEpochs\" => 1000, \"minLoss\" => 0., \"learningRate\" => 0.01, \n",
    "                \"maxEpochsVal\" => 20, \"validationRatio\" => 0.1)];\n",
    "\n",
    "train = (trainInputs, trainTargets); test = (testInputs, testTargets);\n",
    "\n",
    "# normalization and validation set computation if needed\n",
    "valRatio = if modelType != :ANN 0. else params[\"validationRatio\"] end;\n",
    "train, val, test = prepareDataForFitting(train, test, valRatio);\n",
    "\n",
    "classes = unique(trainTargets);\n",
    "matAndMetrics = fitAndConfusion(modelType, params, train, val, test, classes);\n",
    "confMat = matAndMetrics[8];\n",
    "\n",
    "println(\"Confusion matrix: \");\n",
    "println(confMat);"
   ]
  },
  {
   "cell_type": "code",
   "execution_count": null,
   "id": "87a0ca5f",
   "metadata": {},
   "outputs": [],
   "source": [
    "# function displayConfMat(confMat, classes)\n",
    "#     (n,m) = size(confMat);\n",
    "#     heatmap(confMat, fc=cgrad([:white,:dodgerblue4]), xticks=(1:m,classes), yrot=90, yticks=(1:m,classes), \n",
    "#             title=\"Confussion matrix\", xlabel=\"Target\", ylabel=\"Prediction\", yflip=true);\n",
    "#     # add number of coincidences in each cell\n",
    "#     annotate!([(j, i, text(round(confMat[i,j]), 8,\"Computer Modern\",:black)) for i in 1:n for j in 1:m]);\n",
    "# end;\n",
    "\n",
    "# displayConfMat(confMat, classes);\n",
    "\n",
    "# kFoldIndices = crossvalidation(targets, 5)\n",
    "\n",
    "# # definition of models to train\n",
    "# models = []\n",
    "\n",
    "# DTreeParams = [Dict(\"maxDepth\" => 4), Dict(\"maxDepth\" => 8), Dict(\"maxDepth\" => 16)]\n",
    "\n",
    "# KNNparams = [Dict(\"k\" => 3), Dict(\"k\" => 6), Dict(\"k\" => 12)]\n",
    "\n",
    "# SVMparams = [Dict(\"kernel\" => \"rbf\", \"degree\" => 3, \"gamma\" => 2, \"C\" => 1),\n",
    "#             Dict(\"kernel\" => \"rbf\", \"degree\" => 3, \"gamma\" => 30, \"C\" => 1), # higher gamma\n",
    "#             Dict(\"kernel\" => \"sigmoid\", \"degree\" => 3, \"gamma\" => 2, \"C\" => 1),\n",
    "#             Dict(\"kernel\" => \"poly\", \"degree\" => 3, \"gamma\" => 2, \"C\" => 1),\n",
    "#             Dict(\"kernel\" => \"poly\", \"degree\" => 6, \"gamma\" => 2, \"C\" => 1)] # higher degree\n",
    "\n",
    "# ANNparams = [Dict(\"topology\" => [3, 8], \"maxEpochs\" => 1000, \"minLoss\" => 0., \"learningRate\" => 0.01, \n",
    "#                 \"maxEpochsVal\" => 20, \"validationRatio\" => 0.1),\n",
    "#             Dict(\"topology\" => [6, 16], \"maxEpochs\" => 1000, \"minLoss\" => 0., \"learningRate\" => 0.01, \n",
    "#                 \"maxEpochsVal\" => 20, \"validationRatio\" => 0.1),\n",
    "#             Dict(\"topology\" => [12, 32], \"maxEpochs\" => 1000, \"minLoss\" => 0., \"learningRate\" => 0.01, \n",
    "#                 \"maxEpochsVal\" => 20, \"validationRatio\" => 0.1)]\n",
    "\n",
    "# ANNparams2 = [Dict(\"topology\" => [12, 32], \"maxEpochs\" => 1000, \"minLoss\" => 0., \"learningRate\" => 0.01, \n",
    "#                 \"maxEpochsVal\" => 20, \"validationRatio\" => 0.1)]\n",
    "# #models = [(:KNN, KNNparams),(:DTree, DTreeParams),(:SVM, SVMparams),(:ANN, ANNparams)]\n",
    "# models = [(:ANN, ANNparams2)]\n",
    "# bestMetricYet = 0\n",
    "# bestModel = -1\n",
    "\n",
    "# for (modelType, paramList) in models\n",
    "#     cnt = 1\n",
    "#     println(\"Training \", modelType, \" models:\")\n",
    "#     for params in paramList\n",
    "#         (accur, fScore), (stdAccur, stdFScore) = modelCrossValidation(modelType, params, inputs, targets, kFoldIndices)\n",
    "#         println(\"Configuration \", cnt)\n",
    "#         println(\"Accuracy:\", accur, \", stdDev:\", stdAccur)\n",
    "#         println(\"F1-Score:\", fScore, \", stdDev:\", stdFScore)\n",
    "#         println()\n",
    "#         cnt += 1\n",
    "#         #println(modelType, (accur, fScore), (stdAccur, stdFScore))\n",
    "#         if accur * fScore > bestMetricYet\n",
    "#             bestMetricYet = accur * fScore\n",
    "#             bestModel = (modelType, params)\n",
    "#         end\n",
    "#     end\n",
    "# end\n",
    "\n",
    "# (modelType, params) = bestModel\n",
    "# println(\"Best model is \", modelType, \" with hyperparameters:\")\n",
    "# println(params)"
   ]
  }
 ],
 "metadata": {
  "kernelspec": {
   "display_name": "Julia 1.11.1",
   "language": "julia",
   "name": "julia-1.11"
  },
  "language_info": {
   "file_extension": ".jl",
   "mimetype": "application/julia",
   "name": "julia",
   "version": "1.11.1"
  }
 },
 "nbformat": 4,
 "nbformat_minor": 5
}
