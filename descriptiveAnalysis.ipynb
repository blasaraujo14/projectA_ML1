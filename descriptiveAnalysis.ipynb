{
 "cells": [
  {
   "cell_type": "code",
   "execution_count": 1,
   "metadata": {},
   "outputs": [],
   "source": [
    "# Libraries used\n",
    "using DataFrames;\n",
    "using CSV;"
   ]
  },
  {
   "cell_type": "markdown",
   "metadata": {},
   "source": [
    "# Load dataset "
   ]
  },
  {
   "cell_type": "code",
   "execution_count": 2,
   "metadata": {},
   "outputs": [
    {
     "name": "stdout",
     "output_type": "stream",
     "text": [
      "Number of instances: 9105\n",
      "Number of features: 47\n"
     ]
    }
   ],
   "source": [
    "dataset = CSV.read(\"support2.csv\", DataFrame, delim = ',');\n",
    "dataset = select(dataset, Not(\"id\"))\n",
    "numRows, numCols = size(dataset)\n",
    "\n",
    "println(\"Number of instances: \", numRows)\n",
    "println(\"Number of features: \", numCols)"
   ]
  },
  {
   "cell_type": "markdown",
   "metadata": {},
   "source": [
    "# Descriptive analysis\n",
    "\n",
    "Based on the description of the dataset and the previous section we can divide the information in three classes:\n",
    "\n",
    "- **Categorical**: These variables are non-continuos and usually represents different categories, for example, sex of the patient (`sex`).\n",
    "\n",
    "- **Ordinal**: These variables are similar to the categorical ones, but in this case there is an order of importance between the categories, for example, the index of disability of the patient (`sfdm2`).\n",
    "\n",
    "- **Numerical**: These variables are continuos, usually representing a measure, for example, the charges of the patient to the hospital (`charges`). "
   ]
  },
  {
   "cell_type": "code",
   "execution_count": 3,
   "metadata": {},
   "outputs": [
    {
     "name": "stdout",
     "output_type": "stream",
     "text": [
      "Target name: [\"death\", \"hospdead\"]\n",
      "\n",
      "Ordinal features (7): [\"edu\", \"income\", \"sfdm2\", \"ca\", \"adlp\", \"adls\", \"adlsc\"]\n",
      "Numerical features (31): [\"age\", \"slos\", \"d.time\", \"num.co\", \"scoma\", \"charges\", \"totcst\", \"totmcst\", \"avtisst\", \"sps\", \"aps\", \"surv2m\", \"surv6m\", \"hday\", \"prg2m\", \"prg6m\", \"dnrday\", \"meanbp\", \"wblc\", \"hrt\", \"resp\", \"temp\", \"pafi\", \"alb\", \"bili\", \"crea\", \"sod\", \"ph\", \"glucose\", \"bun\", \"urine\"]\n",
      "Categorical features (7): [\"sex\", \"dzgroup\", \"dzclass\", \"race\", \"dnr\", \"dementia\", \"diabetes\"]\n"
     ]
    }
   ],
   "source": [
    "# Names \n",
    "targetName = [\"death\", \"hospdead\"];\n",
    "ordNames = [\"edu\", \"income\", \"sfdm2\", \"ca\", \"adlp\", \"adls\", \"adlsc\"];\n",
    "catNames = [\"sex\", \"dzgroup\", \"dzclass\", \"race\", \"dnr\", \"dementia\", \"diabetes\"];\n",
    "numNames = num_feats = names(select(dataset, Not(ordNames, targetName, catNames)), Union{Missing, Number});\n",
    "\n",
    "println(\"Target name: \", targetName);\n",
    "println();\n",
    "println(\"Ordinal features (\", length(ordNames), \"): \", ordNames);\n",
    "println(\"Numerical features (\", length(numNames), \"): \", numNames);\n",
    "println(\"Categorical features (\", length(catNames), \"): \", catNames);\n",
    "\n",
    "# Partition by data type to perform preprocessing\n",
    "targetDataset = select(dataset, targetName);\n",
    "catDataset = select(dataset, catNames);\n",
    "numDataset = select(dataset, Not(targetName, catNames));"
   ]
  },
  {
   "cell_type": "code",
   "execution_count": 4,
   "metadata": {},
   "outputs": [
    {
     "name": "stdout",
     "output_type": "stream",
     "text": [
      "Descriptive analysis of the target: \n",
      "\u001b[1m2×4 DataFrame\u001b[0m\n",
      "\u001b[1m Row \u001b[0m│\u001b[1m variable \u001b[0m\u001b[1m nmissing \u001b[0m\u001b[1m eltype   \u001b[0m\u001b[1m mean     \u001b[0m\n",
      "     │\u001b[90m Symbol   \u001b[0m\u001b[90m Int64    \u001b[0m\u001b[90m DataType \u001b[0m\u001b[90m Float64  \u001b[0m\n",
      "─────┼────────────────────────────────────────\n",
      "   1 │ death            0  Int64     0.681054\n",
      "   2 │ hospdead         0  Int64     0.259198"
     ]
    }
   ],
   "source": [
    "println(\"Descriptive analysis of the target: \")\n",
    "summaryTarget = describe(targetDataset);\n",
    "show(summaryTarget[:, [\"variable\", \"nmissing\", \"eltype\", \"mean\"]], allrows=true, allcols=true);"
   ]
  },
  {
   "cell_type": "code",
   "execution_count": 5,
   "metadata": {},
   "outputs": [
    {
     "name": "stdout",
     "output_type": "stream",
     "text": [
      "Descriptive analysis of the numerical inputs: \n",
      "\u001b[1m38×6 DataFrame\u001b[0m\n",
      "\u001b[1m Row \u001b[0m│\u001b[1m variable \u001b[0m\u001b[1m nmissing \u001b[0m\u001b[1m eltype                   \u001b[0m\u001b[1m min              \u001b[0m\u001b[1m max                 \u001b[0m\u001b[1m mean     \u001b[0m\n",
      "     │\u001b[90m Symbol   \u001b[0m\u001b[90m Int64    \u001b[0m\u001b[90m Type                     \u001b[0m\u001b[90m Any              \u001b[0m\u001b[90m Any                 \u001b[0m\u001b[90m Union…   \u001b[0m\n",
      "─────┼───────────────────────────────────────────────────────────────────────────────────────────────\n",
      "   1 │ age              0  Float64                   18.042            101.848              62.6508\n",
      "   2 │ slos             0  Int64                     3                 343                  17.863\n",
      "   3 │ d.time           0  Int64                     3                 2029                 478.45\n",
      "   4 │ num.co           0  Int64                     0                 9                    1.86864\n",
      "   5 │ edu           1634  Union{Missing, Int64}     0                 31                   11.7477\n",
      "   6 │ income        2982  Union{Missing, String15}  $11-$25k          under $11k          \u001b[90m          \u001b[0m\n",
      "   7 │ scoma            1  Union{Missing, Int64}     0                 100                  12.0585\n",
      "   8 │ charges        172  Union{Missing, Float64}   1169.0            1.43542e6            59995.8\n",
      "   9 │ totcst         888  Union{Missing, Float64}   0.0               633212.0             30825.9\n",
      "  10 │ totmcst       3475  Union{Missing, Float64}   -102.72           710682.0             28828.9\n",
      "  11 │ avtisst         82  Union{Missing, Float64}   1.0               83.0                 22.6109\n",
      "  12 │ sps              1  Union{Missing, Float64}   0.199982          99.1875              25.5259\n",
      "  13 │ aps              1  Union{Missing, Int64}     0                 143                  37.598\n",
      "  14 │ surv2m           1  Union{Missing, Float64}   0.0               0.969971             0.63587\n",
      "  15 │ surv6m           1  Union{Missing, Float64}   0.0               0.947998             0.520096\n",
      "  16 │ hday             0  Int64                     1                 148                  4.4\n",
      "  17 │ ca               0  String15                  metastatic        yes                 \u001b[90m          \u001b[0m\n",
      "  18 │ prg2m         1649  Union{Missing, Float64}   0.0               1.0                  0.618769\n",
      "  19 │ prg6m         1633  Union{Missing, Float64}   0.0               1.0                  0.499679\n",
      "  20 │ dnrday          30  Union{Missing, Int64}     -88               285                  14.5826\n",
      "  21 │ meanbp           1  Union{Missing, Float64}   0.0               195.0                84.5464\n",
      "  22 │ wblc           212  Union{Missing, Float64}   0.0               200.0                12.3477\n",
      "  23 │ hrt              1  Union{Missing, Float64}   0.0               300.0                97.1567\n",
      "  24 │ resp             1  Union{Missing, Int64}     0                 90                   23.3303\n",
      "  25 │ temp             1  Union{Missing, Float64}   31.6992           41.6953              37.1033\n",
      "  26 │ pafi          2325  Union{Missing, Float64}   12.0              890.375              239.529\n",
      "  27 │ alb           3372  Union{Missing, Float64}   0.399963          29.0                 2.95052\n",
      "  28 │ bili          2601  Union{Missing, Float64}   0.0999908         63.0                 2.55446\n",
      "  29 │ crea            67  Union{Missing, Float64}   0.0999908         21.5                 1.77096\n",
      "  30 │ sod              1  Union{Missing, Int64}     110               181                  137.569\n",
      "  31 │ ph            2284  Union{Missing, Float64}   6.8291            7.76953              7.41536\n",
      "  32 │ glucose       4500  Union{Missing, Float64}   0.0               1092.0               159.873\n",
      "  33 │ bun           4352  Union{Missing, Float64}   1.0               300.0                32.3495\n",
      "  34 │ urine         4862  Union{Missing, Float64}   0.0               9000.0               2191.55\n",
      "  35 │ adlp          5641  Union{Missing, Int64}     0                 7                    1.15791\n",
      "  36 │ adls          2867  Union{Missing, Int64}     0                 7                    1.63738\n",
      "  37 │ sfdm2         1400  Union{Missing, String31}  <2 mo. follow-up  no(M2 and SIP pres) \u001b[90m          \u001b[0m\n",
      "  38 │ adlsc            0  Float64                   0.0               7.07324              1.88827"
     ]
    }
   ],
   "source": [
    "println(\"Descriptive analysis of the numerical inputs: \")\n",
    "summaryNum = describe(numDataset);\n",
    "show(summaryNum[:,[\"variable\", \"nmissing\", \"eltype\", \"min\", \"max\", \"mean\"]], allrows=true, allcols=true);"
   ]
  },
  {
   "cell_type": "code",
   "execution_count": 6,
   "metadata": {},
   "outputs": [
    {
     "name": "stdout",
     "output_type": "stream",
     "text": [
      "Descriptive analysis of the categorical: \n",
      "\u001b[1m7×5 DataFrame\u001b[0m\n",
      "\u001b[1m Row \u001b[0m│\u001b[1m variable \u001b[0m\u001b[1m nmissing \u001b[0m\u001b[1m eltype                   \u001b[0m\u001b[1m min               \u001b[0m\u001b[1m max          \u001b[0m\n",
      "     │\u001b[90m Symbol   \u001b[0m\u001b[90m Int64    \u001b[0m\u001b[90m Type                     \u001b[0m\u001b[90m Any               \u001b[0m\u001b[90m Any          \u001b[0m\n",
      "─────┼───────────────────────────────────────────────────────────────────────────────\n",
      "   1 │ sex              0  String7                   female             male\n",
      "   2 │ dzgroup          0  String31                  ARF/MOSF w/Sepsis  MOSF w/Malig\n",
      "   3 │ dzclass          0  String31                  ARF/MOSF           Coma\n",
      "   4 │ race            42  Union{Missing, String15}  asian              white\n",
      "   5 │ dnr             30  Union{Missing, String15}  dnr after sadm     no dnr\n",
      "   6 │ dementia         0  Int64                     0                  1\n",
      "   7 │ diabetes         0  Int64                     0                  1"
     ]
    }
   ],
   "source": [
    "println(\"Descriptive analysis of the categorical: \")\n",
    "summaryCat = describe(catDataset);\n",
    "show(summaryCat[:, [\"variable\", \"nmissing\", \"eltype\", \"min\", \"max\"]], allrows=true, allcols=true);"
   ]
  },
  {
   "cell_type": "markdown",
   "metadata": {},
   "source": [
    "Based on the previous analysis we spot some problems with the features:\n",
    "\n",
    "- **Ordinal features**:\n",
    "    - `income`, `sfdm2` and `ca` are not correctly encoded. As this variables represent importance levels, they should be encoded as integers ordered in ascendant by their import\n",
    "\n",
    "- **Categorical**:\n",
    "    - `sex`, `dzgroup`, `dzclass`, `race`, `ca`, `dnr` are encoded as strings, so they should be one-hot encoded.\n",
    "\n",
    "- **Numerical**: \n",
    "    - Standarization should be performed to scale data, min-max wont work ok since our data could contain outliers since we are treating terminal ill patients."
   ]
  }
 ],
 "metadata": {
  "kernelspec": {
   "display_name": "Julia 1.10.5",
   "language": "julia",
   "name": "julia-1.10"
  },
  "language_info": {
   "file_extension": ".jl",
   "mimetype": "application/julia",
   "name": "julia",
   "version": "1.10.5"
  }
 },
 "nbformat": 4,
 "nbformat_minor": 2
}
