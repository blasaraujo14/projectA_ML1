{
 "cells": [
  {
   "cell_type": "code",
   "execution_count": 1,
   "metadata": {},
   "outputs": [],
   "source": [
    "# Libraries used\n",
    "using DataFrames;\n",
    "using CSV;\n",
    "using Statistics;\n",
    "using Random;\n",
    "using ScikitLearn;\n",
    "@sk_import impute: KNNImputer;\n",
    "include(\"preprocessing.jl\");"
   ]
  },
  {
   "cell_type": "markdown",
   "metadata": {},
   "source": [
    "# Load dataset"
   ]
  },
  {
   "cell_type": "code",
   "execution_count": 2,
   "metadata": {},
   "outputs": [],
   "source": [
    "support2 = CSV.read(\"support2_cleaned.csv\", DataFrame, delim = ',');"
   ]
  },
  {
   "cell_type": "markdown",
   "metadata": {},
   "source": [
    "# Hold-out partition"
   ]
  },
  {
   "cell_type": "code",
   "execution_count": 7,
   "metadata": {},
   "outputs": [
    {
     "name": "stdout",
     "output_type": "stream",
     "text": [
      "\u001b[1m2×56 DataFrame\u001b[0m\n",
      "\u001b[1m Row \u001b[0m│\u001b[1m age     \u001b[0m\u001b[1m slos  \u001b[0m\u001b[1m d.time \u001b[0m\u001b[1m num.co \u001b[0m\u001b[1m edu     \u001b[0m\u001b[1m scoma \u001b[0m\u001b[1m charges  \u001b[0m\u001b[1m totcst  \u001b[0m\u001b[1m avtisst \u001b[0m\u001b[1m sps     \u001b[0m\u001b[1m aps   \u001b[0m\u001b[1m surv2m   \u001b[0m\u001b[1m surv6m    \u001b[0m\u001b[1m hday  \u001b[0m\u001b[1m prg2m   \u001b[0m\u001b[1m prg6m   \u001b[0m\u001b[1m dnrday \u001b[0m\u001b[1m meanbp  \u001b[0m\u001b[1m wblc    \u001b[0m\u001b[1m hrt     \u001b[0m\u001b[1m resp    \u001b[0m\u001b[1m temp    \u001b[0m\u001b[1m pafi    \u001b[0m\u001b[1m bili    \u001b[0m\u001b[1m crea    \u001b[0m\u001b[1m sod     \u001b[0m\u001b[1m ph        \u001b[0m\u001b[1m adls    \u001b[0m\u001b[1m adlsc   \u001b[0m\u001b[1m income_ord \u001b[0m\u001b[1m ca_ord \u001b[0m\u001b[1m sfdm2_ord \u001b[0m\u001b[1m dementia \u001b[0m\u001b[1m diabetes \u001b[0m\u001b[1m sex_male \u001b[0m\u001b[1m sex_female \u001b[0m\u001b[1m dzgroup_Lung Cancer \u001b[0m\u001b[1m dzgroup_Cirrhosis \u001b[0m\u001b[1m dzgroup_ARF/MOSF w/Sepsis \u001b[0m\u001b[1m dzgroup_Coma \u001b[0m\u001b[1m dzgroup_CHF \u001b[0m\u001b[1m dzgroup_Colon Cancer \u001b[0m\u001b[1m dzgroup_COPD \u001b[0m\u001b[1m dzgroup_MOSF w/Malig \u001b[0m\u001b[1m dzclass_Cancer \u001b[0m\u001b[1m dzclass_COPD/CHF/Cirrhosis \u001b[0m\u001b[1m dzclass_ARF/MOSF \u001b[0m\u001b[1m dzclass_Coma \u001b[0m\u001b[1m race_other \u001b[0m\u001b[1m race_white \u001b[0m\u001b[1m race_black \u001b[0m\u001b[1m race_hispanic \u001b[0m\u001b[1m race_asian \u001b[0m\u001b[1m dnr_no dnr \u001b[0m\u001b[1m dnr_dnr after sadm \u001b[0m\u001b[1m dnr_dnr before sadm \u001b[0m\n",
      "     │\u001b[90m Float64 \u001b[0m\u001b[90m Int64 \u001b[0m\u001b[90m Int64  \u001b[0m\u001b[90m Int64  \u001b[0m\u001b[90m Float64 \u001b[0m\u001b[90m Int64 \u001b[0m\u001b[90m Float64  \u001b[0m\u001b[90m Float64 \u001b[0m\u001b[90m Float64 \u001b[0m\u001b[90m Float64 \u001b[0m\u001b[90m Int64 \u001b[0m\u001b[90m Float64  \u001b[0m\u001b[90m Float64   \u001b[0m\u001b[90m Int64 \u001b[0m\u001b[90m Float64 \u001b[0m\u001b[90m Float64 \u001b[0m\u001b[90m Int64  \u001b[0m\u001b[90m Float64 \u001b[0m\u001b[90m Float64 \u001b[0m\u001b[90m Float64 \u001b[0m\u001b[90m Float64 \u001b[0m\u001b[90m Float64 \u001b[0m\u001b[90m Float64 \u001b[0m\u001b[90m Float64 \u001b[0m\u001b[90m Float64 \u001b[0m\u001b[90m Float64 \u001b[0m\u001b[90m Float64   \u001b[0m\u001b[90m Float64 \u001b[0m\u001b[90m Float64 \u001b[0m\u001b[90m Float64    \u001b[0m\u001b[90m Int64  \u001b[0m\u001b[90m Float64   \u001b[0m\u001b[90m Int64    \u001b[0m\u001b[90m Int64    \u001b[0m\u001b[90m Int64    \u001b[0m\u001b[90m Int64      \u001b[0m\u001b[90m Int64               \u001b[0m\u001b[90m Int64             \u001b[0m\u001b[90m Int64                     \u001b[0m\u001b[90m Int64        \u001b[0m\u001b[90m Int64       \u001b[0m\u001b[90m Int64                \u001b[0m\u001b[90m Int64        \u001b[0m\u001b[90m Int64                \u001b[0m\u001b[90m Int64          \u001b[0m\u001b[90m Int64                      \u001b[0m\u001b[90m Int64            \u001b[0m\u001b[90m Int64        \u001b[0m\u001b[90m Int64      \u001b[0m\u001b[90m Int64      \u001b[0m\u001b[90m Int64      \u001b[0m\u001b[90m Int64         \u001b[0m\u001b[90m Int64      \u001b[0m\u001b[90m Int64      \u001b[0m\u001b[90m Int64              \u001b[0m\u001b[90m Int64               \u001b[0m\n",
      "─────┼─────────────────────────────────────────────────────────────────────────────────────────────────────────────────────────────────────────────────────────────────────────────────────────────────────────────────────────────────────────────────────────────────────────────────────────────────────────────────────────────────────────────────────────────────────────────────────────────────────────────────────────────────────────────────────────────────────────────────────────────────────────────────────────────────────────────────────────────────────────────────────────────────────────────────────────────────────────────────────────────────────────────────────────────────\n",
      "   1 │  63.767      8       8       5     14.0      9  177499.0  24227.2    39.0   44.1953     72  0.125977  0.0559998     10      0.5      0.1       5     62.0  14.2988     95.0     25.0  36.5938    NaN    54.7969  4.59961    132.0  NaN          NaN    4.48242         3.0       2        5.0         0         0         1           0                    0                  0                          1             0            0                     0             0                     0               0                           0                 1             0           0           1           0              0           0           0                   1                    0\n",
      "   2 │  67.743     28     221       6      9.0     44   25813.0  20530.0    11.25  19.1992     28  0.73291   0.650879       2      0.7      0.5       7     79.0  11.8984    100.0     12.0  38.2969    250.0   1.2998  1.09985    134.0    7.42969      4.0  4.0           NaN         1        2.0         0         1         1           0                    0                  0                          1             0            0                     0             0                     0               0                           0                 1             0           0           0           1              0           0           0                   1                    0"
     ]
    }
   ],
   "source": [
    "using Random;\n",
    "\n",
    "# trainIndex, testIndex = holdOut(nrow(support2), 0.2);\n",
    "trainIndex, testIndex = holdOut(nrow(support2), 0.2)\n",
    "\n",
    "# The two final variables are death and hospdead (last one)\n",
    "trainInput = support2[trainIndex,1:end-2];\n",
    "trainOutput = support2[trainIndex,end-1];\n",
    "testInput = support2[testIndex,1:end-2];\n",
    "testOutput = support2[testIndex,end-1];\n",
    "\n",
    "show(first(trainInput,2), allcols=true, allrows=true)"
   ]
  },
  {
   "cell_type": "markdown",
   "metadata": {},
   "source": [
    "# Imputation"
   ]
  },
  {
   "cell_type": "code",
   "execution_count": 8,
   "metadata": {},
   "outputs": [
    {
     "name": "stdout",
     "output_type": "stream",
     "text": [
      "\u001b[1m2×56 DataFrame\u001b[0m\n",
      "\u001b[1m Row \u001b[0m│\u001b[1m age     \u001b[0m\u001b[1m slos  \u001b[0m\u001b[1m d.time \u001b[0m\u001b[1m num.co \u001b[0m\u001b[1m edu     \u001b[0m\u001b[1m scoma \u001b[0m\u001b[1m charges  \u001b[0m\u001b[1m totcst  \u001b[0m\u001b[1m avtisst \u001b[0m\u001b[1m sps     \u001b[0m\u001b[1m aps   \u001b[0m\u001b[1m surv2m   \u001b[0m\u001b[1m surv6m    \u001b[0m\u001b[1m hday  \u001b[0m\u001b[1m prg2m   \u001b[0m\u001b[1m prg6m   \u001b[0m\u001b[1m dnrday \u001b[0m\u001b[1m meanbp  \u001b[0m\u001b[1m wblc    \u001b[0m\u001b[1m hrt     \u001b[0m\u001b[1m resp    \u001b[0m\u001b[1m temp    \u001b[0m\u001b[1m pafi    \u001b[0m\u001b[1m bili    \u001b[0m\u001b[1m crea    \u001b[0m\u001b[1m sod     \u001b[0m\u001b[1m ph      \u001b[0m\u001b[1m adls    \u001b[0m\u001b[1m adlsc   \u001b[0m\u001b[1m income_ord \u001b[0m\u001b[1m ca_ord \u001b[0m\u001b[1m sfdm2_ord \u001b[0m\u001b[1m dementia \u001b[0m\u001b[1m diabetes \u001b[0m\u001b[1m sex_male \u001b[0m\u001b[1m sex_female \u001b[0m\u001b[1m dzgroup_Lung Cancer \u001b[0m\u001b[1m dzgroup_Cirrhosis \u001b[0m\u001b[1m dzgroup_ARF/MOSF w/Sepsis \u001b[0m\u001b[1m dzgroup_Coma \u001b[0m\u001b[1m dzgroup_CHF \u001b[0m\u001b[1m dzgroup_Colon Cancer \u001b[0m\u001b[1m dzgroup_COPD \u001b[0m\u001b[1m dzgroup_MOSF w/Malig \u001b[0m\u001b[1m dzclass_Cancer \u001b[0m\u001b[1m dzclass_COPD/CHF/Cirrhosis \u001b[0m\u001b[1m dzclass_ARF/MOSF \u001b[0m\u001b[1m dzclass_Coma \u001b[0m\u001b[1m race_other \u001b[0m\u001b[1m race_white \u001b[0m\u001b[1m race_black \u001b[0m\u001b[1m race_hispanic \u001b[0m\u001b[1m race_asian \u001b[0m\u001b[1m dnr_no dnr \u001b[0m\u001b[1m dnr_dnr after sadm \u001b[0m\u001b[1m dnr_dnr before sadm \u001b[0m\n",
      "     │\u001b[90m Float64 \u001b[0m\u001b[90m Int64 \u001b[0m\u001b[90m Int64  \u001b[0m\u001b[90m Int64  \u001b[0m\u001b[90m Float64 \u001b[0m\u001b[90m Int64 \u001b[0m\u001b[90m Float64  \u001b[0m\u001b[90m Float64 \u001b[0m\u001b[90m Float64 \u001b[0m\u001b[90m Float64 \u001b[0m\u001b[90m Int64 \u001b[0m\u001b[90m Float64  \u001b[0m\u001b[90m Float64   \u001b[0m\u001b[90m Int64 \u001b[0m\u001b[90m Float64 \u001b[0m\u001b[90m Float64 \u001b[0m\u001b[90m Int64  \u001b[0m\u001b[90m Float64 \u001b[0m\u001b[90m Float64 \u001b[0m\u001b[90m Float64 \u001b[0m\u001b[90m Float64 \u001b[0m\u001b[90m Float64 \u001b[0m\u001b[90m Float64 \u001b[0m\u001b[90m Float64 \u001b[0m\u001b[90m Float64 \u001b[0m\u001b[90m Float64 \u001b[0m\u001b[90m Float64 \u001b[0m\u001b[90m Float64 \u001b[0m\u001b[90m Float64 \u001b[0m\u001b[90m Float64    \u001b[0m\u001b[90m Int64  \u001b[0m\u001b[90m Float64   \u001b[0m\u001b[90m Int64    \u001b[0m\u001b[90m Int64    \u001b[0m\u001b[90m Int64    \u001b[0m\u001b[90m Int64      \u001b[0m\u001b[90m Int64               \u001b[0m\u001b[90m Int64             \u001b[0m\u001b[90m Int64                     \u001b[0m\u001b[90m Int64        \u001b[0m\u001b[90m Int64       \u001b[0m\u001b[90m Int64                \u001b[0m\u001b[90m Int64        \u001b[0m\u001b[90m Int64                \u001b[0m\u001b[90m Int64          \u001b[0m\u001b[90m Int64                      \u001b[0m\u001b[90m Int64            \u001b[0m\u001b[90m Int64        \u001b[0m\u001b[90m Int64      \u001b[0m\u001b[90m Int64      \u001b[0m\u001b[90m Int64      \u001b[0m\u001b[90m Int64         \u001b[0m\u001b[90m Int64      \u001b[0m\u001b[90m Int64      \u001b[0m\u001b[90m Int64              \u001b[0m\u001b[90m Int64               \u001b[0m\n",
      "─────┼───────────────────────────────────────────────────────────────────────────────────────────────────────────────────────────────────────────────────────────────────────────────────────────────────────────────────────────────────────────────────────────────────────────────────────────────────────────────────────────────────────────────────────────────────────────────────────────────────────────────────────────────────────────────────────────────────────────────────────────────────────────────────────────────────────────────────────────────────────────────────────────────────────────────────────────────────────────────────────────────────────────────────────────────\n",
      "   1 │  63.767      8       8       5     14.0      9  177499.0  24227.2    39.0   44.1953     72  0.125977  0.0559998     10      0.5      0.1       5     62.0  14.2988     95.0     25.0  36.5938  234.016  54.7969  4.59961    132.0  7.42432      0.0  4.48242         3.0       2        5.0         0         0         1           0                    0                  0                          1             0            0                     0             0                     0               0                           0                 1             0           0           1           0              0           0           0                   1                    0\n",
      "   2 │  67.743     28     221       6      9.0     44   25813.0  20530.0    11.25  19.1992     28  0.73291   0.650879       2      0.7      0.5       7     79.0  11.8984    100.0     12.0  38.2969  250.0     1.2998  1.09985    134.0  7.42969      4.0  4.0             1.0       1        2.0         0         1         1           0                    0                  0                          1             0            0                     0             0                     0               0                           0                 1             0           0           0           1              0           0           0                   1                    0"
     ]
    }
   ],
   "source": [
    "imputer = KNNImputer(n_neighbors = 2)\n",
    "\n",
    "trainInput[:,1:32] = fit_transform!(imputer, Matrix(trainInput[:,1:32]));\n",
    "testInput[:,1:32] = imputer.transform(Matrix(testInput[:,1:32]));\n",
    "\n",
    "show(first(trainInput,2), allcols=true, allrows=true)"
   ]
  },
  {
   "cell_type": "markdown",
   "metadata": {},
   "source": [
    "# Standardize"
   ]
  },
  {
   "cell_type": "code",
   "execution_count": 10,
   "metadata": {},
   "outputs": [],
   "source": [
    "X_train = Matrix(trainInput);\n",
    "X_test = Matrix(testInput);\n",
    "y_train = trainOutput;\n",
    "y_test = testOutput\n",
    "\n",
    "meanTrain, stdTrain = calculateZeroMeanNormalizationParameters(Matrix(X_train[:,1:32]));\n",
    "\n",
    "X_train[:,1:32] = normalizeZeroMean(Matrix(X_train[:,1:32]), (meanTrain, stdTrain));\n",
    "X_test[:,1:32] = normalizeZeroMean(Matrix(X_test[:,1:32]), (meanTrain, stdTrain));"
   ]
  },
  {
   "cell_type": "code",
   "execution_count": 11,
   "metadata": {},
   "outputs": [
    {
     "data": {
      "text/plain": [
       "2×56 Matrix{Float64}:\n",
       " 0.0754037  -0.453557  -0.837575  …  1.0  0.0  0.0  0.0  0.0  1.0  0.0\n",
       " 0.329292    0.471792  -0.456764     0.0  1.0  0.0  0.0  0.0  1.0  0.0"
      ]
     },
     "metadata": {},
     "output_type": "display_data"
    }
   ],
   "source": [
    "X_train[1:2,:]"
   ]
  },
  {
   "cell_type": "code",
   "execution_count": 12,
   "metadata": {},
   "outputs": [
    {
     "data": {
      "text/plain": [
       "2-element Vector{Int64}:\n",
       " 1\n",
       " 1"
      ]
     },
     "metadata": {},
     "output_type": "display_data"
    }
   ],
   "source": [
    "y_train[1:2]"
   ]
  }
 ],
 "metadata": {
  "kernelspec": {
   "display_name": "Julia 1.10.5",
   "language": "julia",
   "name": "julia-1.10"
  },
  "language_info": {
   "file_extension": ".jl",
   "mimetype": "application/julia",
   "name": "julia",
   "version": "1.10.5"
  }
 },
 "nbformat": 4,
 "nbformat_minor": 2
}
