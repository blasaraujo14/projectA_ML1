{
 "cells": [
  {
   "cell_type": "code",
   "execution_count": 1,
   "id": "941d5006-b0d9-4644-970f-5567d255e1a2",
   "metadata": {},
   "outputs": [],
   "source": [
    "# Libraries used\n",
    "using DataFrames;\n",
    "using CSV;\n",
    "include(\"preprocessing.jl\");"
   ]
  },
  {
   "cell_type": "markdown",
   "id": "387ed662",
   "metadata": {},
   "source": [
    "# Preprocessing\n",
    "\n",
    "In first place we are going to drop columns with more than 35% instances of missing values."
   ]
  },
  {
   "cell_type": "code",
   "execution_count": 2,
   "id": "e356080e",
   "metadata": {},
   "outputs": [
    {
     "name": "stdout",
     "output_type": "stream",
     "text": [
      "Features original dataset: 47\n",
      "Intances original dataset: 9105\n",
      "\n",
      "Features with more than 35% missing data: [:totmcst, :alb, :glucose, :bun, :urine, :adlp]\n",
      "Features after transform: 41\n",
      "Instances after transform: 9033\n"
     ]
    }
   ],
   "source": [
    "# Load dataset\n",
    "dataset = CSV.read(\"support2.csv\", DataFrame, delim = ',');\n",
    "dataset = select(dataset, Not(\"id\"))\n",
    "support2 = copy(dataset);\n",
    "\n",
    "# Eliminate features with more than 35% of data missing.\n",
    "featsOut = getMissingColumns(support2, 0.35);\n",
    "support2 = select(support2, Not(featsOut))\n",
    "\n",
    "# Eliminate missings in race and dnr columns (only categoricals with missing and few missing values).\n",
    "support2 = dropmissing(support2, [:dnr,:race])\n",
    "\n",
    "println(\"Features original dataset: \", ncol(dataset))\n",
    "println(\"Intances original dataset: \", nrow(dataset))\n",
    "println();\n",
    "println(\"Features with more than 35% missing data: \", featsOut);\n",
    "println(\"Features after transform: \", ncol(support2))\n",
    "println(\"Instances after transform: \", nrow(support2))"
   ]
  },
  {
   "cell_type": "markdown",
   "id": "823cd068",
   "metadata": {},
   "source": [
    "Now, we divide the inputs in categorical and numerical data as they have different preprocessing"
   ]
  },
  {
   "cell_type": "code",
   "execution_count": 3,
   "id": "74cf9b4c",
   "metadata": {},
   "outputs": [
    {
     "name": "stdout",
     "output_type": "stream",
     "text": [
      "Target name: [\"death\", \"hospdead\"]\n",
      "Numerical features (29): [\"age\", \"slos\", \"d.time\", \"num.co\", \"edu\", \"scoma\", \"charges\", \"totcst\", \"avtisst\", \"sps\", \"aps\", \"surv2m\", \"surv6m\", \"hday\", \"prg2m\", \"prg6m\", \"dnrday\", \"meanbp\", \"wblc\", \"hrt\", \"resp\", \"temp\", \"pafi\", \"bili\", \"crea\", \"sod\", \"ph\", \"adls\", \"adlsc\"]\n",
      "Categorical features (7): [\"sex\", \"dzgroup\", \"dzclass\", \"race\", \"dnr\", \"dementia\", \"diabetes\"]\n"
     ]
    }
   ],
   "source": [
    "# Partition by data type to perform preprocessing\n",
    "catNames= [\"sex\", \"dzgroup\", \"dzclass\", \"race\", \"dnr\", \"dementia\", \"diabetes\"]\n",
    "targetName = [\"death\", \"hospdead\"]\n",
    "numNames = num_feats = names(select(support2, Not(catNames, targetName)), Union{Missing, Number});\n",
    "\n",
    "support2Target = select(support2, targetName);\n",
    "support2Cat = select(support2, catNames);\n",
    "support2Num = select(support2, Not(targetName, catNames));\n",
    "\n",
    "println(\"Target name: \", targetName);\n",
    "println(\"Numerical features (\", length(numNames), \"): \", numNames);\n",
    "println(\"Categorical features (\", length(catNames), \"): \", catNames);"
   ]
  },
  {
   "cell_type": "markdown",
   "id": "60c59679",
   "metadata": {},
   "source": [
    "- Categorical"
   ]
  },
  {
   "cell_type": "code",
   "execution_count": 4,
   "id": "b836772d",
   "metadata": {},
   "outputs": [
    {
     "name": "stdout",
     "output_type": "stream",
     "text": [
      "Categorical features (24): [\"dementia\", \"diabetes\", \"sex_male\", \"sex_female\", \"dzgroup_Lung Cancer\", \"dzgroup_Cirrhosis\", \"dzgroup_ARF/MOSF w/Sepsis\", \"dzgroup_Coma\", \"dzgroup_CHF\", \"dzgroup_Colon Cancer\", \"dzgroup_COPD\", \"dzgroup_MOSF w/Malig\", \"dzclass_Cancer\", \"dzclass_COPD/CHF/Cirrhosis\", \"dzclass_ARF/MOSF\", \"dzclass_Coma\", \"race_other\", \"race_white\", \"race_black\", \"race_hispanic\", \"race_asian\", \"dnr_no dnr\", \"dnr_dnr after sadm\", \"dnr_dnr before sadm\"]\n",
      "\u001b[1m2×24 DataFrame\u001b[0m\n",
      "\u001b[1m Row \u001b[0m│\u001b[1m dementia \u001b[0m\u001b[1m diabetes \u001b[0m\u001b[1m sex_male \u001b[0m\u001b[1m sex_female \u001b[0m\u001b[1m dzgroup_Lung Cancer \u001b[0m\u001b[1m dzgroup_Cirrhosis \u001b[0m\u001b[1m dzgroup_ARF/MOSF w/Sepsis \u001b[0m\u001b[1m dzgroup_Coma \u001b[0m\u001b[1m dzgroup_CHF \u001b[0m\u001b[1m dzgroup_Colon Cancer \u001b[0m\u001b[1m dzgroup_COPD \u001b[0m\u001b[1m dzgroup_MOSF w/Malig \u001b[0m\u001b[1m dzclass_Cancer \u001b[0m\u001b[1m dzclass_COPD/CHF/Cirrhosis \u001b[0m\u001b[1m dzclass_ARF/MOSF \u001b[0m\u001b[1m dzclass_Coma \u001b[0m\u001b[1m race_other \u001b[0m\u001b[1m race_white \u001b[0m\u001b[1m race_black \u001b[0m\u001b[1m race_hispanic \u001b[0m\u001b[1m race_asian \u001b[0m\u001b[1m dnr_no dnr \u001b[0m\u001b[1m dnr_dnr after sadm \u001b[0m\u001b[1m dnr_dnr before sadm \u001b[0m\n",
      "     │\u001b[90m Int64    \u001b[0m\u001b[90m Int64    \u001b[0m\u001b[90m Int64    \u001b[0m\u001b[90m Int64      \u001b[0m\u001b[90m Int64               \u001b[0m\u001b[90m Int64             \u001b[0m\u001b[90m Int64                     \u001b[0m\u001b[90m Int64        \u001b[0m\u001b[90m Int64       \u001b[0m\u001b[90m Int64                \u001b[0m\u001b[90m Int64        \u001b[0m\u001b[90m Int64                \u001b[0m\u001b[90m Int64          \u001b[0m\u001b[90m Int64                      \u001b[0m\u001b[90m Int64            \u001b[0m\u001b[90m Int64        \u001b[0m\u001b[90m Int64      \u001b[0m\u001b[90m Int64      \u001b[0m\u001b[90m Int64      \u001b[0m\u001b[90m Int64         \u001b[0m\u001b[90m Int64      \u001b[0m\u001b[90m Int64      \u001b[0m\u001b[90m Int64              \u001b[0m\u001b[90m Int64               \u001b[0m\n",
      "─────┼──────────────────────────────────────────────────────────────────────────────────────────────────────────────────────────────────────────────────────────────────────────────────────────────────────────────────────────────────────────────────────────────────────────────────────────────────────────────────────────────────────────────────────────────────────────────────────────────────\n",
      "   1 │        0         0         1           0                    1                  0                          0             0            0                     0             0                     0               1                           0                 0             0           1           0           0              0           0           1                   0                    0\n",
      "   2 │        0         0         0           1                    0                  1                          0             0            0                     0             0                     0               0                           1                 0             0           0           1           0              0           0           1                   0                    0"
     ]
    }
   ],
   "source": [
    "###############\n",
    "# Categorical #\n",
    "###############\n",
    "\n",
    "# Dementia and diabetes are already in OHE format\n",
    "for cat in catNames[1:end-2]\n",
    "    support2Cat = dfOneHotEncoding!(support2Cat, cat)\n",
    "end;\n",
    "\n",
    "catNames = names(support2Cat)\n",
    "println(\"Categorical features (\", length(catNames), \"): \", catNames);\n",
    "show(first(support2Cat,2), allcols = true, allrows = true)"
   ]
  },
  {
   "cell_type": "markdown",
   "id": "7d0bd511",
   "metadata": {},
   "source": [
    "- Numerical"
   ]
  },
  {
   "cell_type": "code",
   "execution_count": 5,
   "id": "1e19a344",
   "metadata": {},
   "outputs": [],
   "source": [
    "#############\n",
    "# Numerical #\n",
    "#############\n",
    "# Some ordinal features do not have appropiate format, so we correct it\n",
    "ordinalDict = Dict(\"income\" => Dict(missing => missing,\n",
    "                                   \"under \\$11k\" => 1,\n",
    "                                    \"\\$11-\\$25k\" => 2,\n",
    "                                    \"\\$25-\\$50k\" => 3,\n",
    "                                    \">\\$50k\" => 4),\n",
    "                    \"sfdm2\" => Dict(missing => missing,\n",
    "                                    \"no(M2 and SIP pres)\" => 1,\n",
    "                                    \"adl>=4 (>=5 if sur)\" => 2,\n",
    "                                    \"SIP>=30\" => 3,\n",
    "                                    \"Coma or Intub\" => 4,\n",
    "                                    \"<2 mo. follow-up\" => 5),\n",
    "                    \"ca\" => Dict(\"no\" => 1,\n",
    "                                 \"yes\" => 2,\n",
    "                                 \"metastatic\" => 3))\n",
    "\n",
    "for (feat, ordDict) in ordinalDict\n",
    "    support2Num = dfOrdinalEncoding!(support2Num, feat, ordDict)\n",
    "end;\n",
    "\n",
    "# Change missing by NaN for using imputer.\n",
    "support2Num = coalesce.(support2Num, NaN);"
   ]
  },
  {
   "cell_type": "markdown",
   "id": "0cad0d66",
   "metadata": {},
   "source": [
    "Store results in a csv"
   ]
  },
  {
   "cell_type": "code",
   "execution_count": 6,
   "id": "7b0fe10c",
   "metadata": {},
   "outputs": [
    {
     "name": "stdout",
     "output_type": "stream",
     "text": [
      "\u001b[1m2×58 DataFrame\u001b[0m\n",
      "\u001b[1m Row \u001b[0m│\u001b[1m age     \u001b[0m\u001b[1m slos  \u001b[0m\u001b[1m d.time \u001b[0m\u001b[1m num.co \u001b[0m\u001b[1m edu     \u001b[0m\u001b[1m scoma \u001b[0m\u001b[1m charges \u001b[0m\u001b[1m totcst  \u001b[0m\u001b[1m avtisst \u001b[0m\u001b[1m sps     \u001b[0m\u001b[1m aps   \u001b[0m\u001b[1m surv2m   \u001b[0m\u001b[1m surv6m    \u001b[0m\u001b[1m hday  \u001b[0m\u001b[1m prg2m   \u001b[0m\u001b[1m prg6m   \u001b[0m\u001b[1m dnrday \u001b[0m\u001b[1m meanbp  \u001b[0m\u001b[1m wblc    \u001b[0m\u001b[1m hrt     \u001b[0m\u001b[1m resp    \u001b[0m\u001b[1m temp    \u001b[0m\u001b[1m pafi    \u001b[0m\u001b[1m bili     \u001b[0m\u001b[1m crea    \u001b[0m\u001b[1m sod     \u001b[0m\u001b[1m ph      \u001b[0m\u001b[1m adls    \u001b[0m\u001b[1m adlsc   \u001b[0m\u001b[1m income_ord \u001b[0m\u001b[1m ca_ord \u001b[0m\u001b[1m sfdm2_ord \u001b[0m\u001b[1m dementia \u001b[0m\u001b[1m diabetes \u001b[0m\u001b[1m sex_male \u001b[0m\u001b[1m sex_female \u001b[0m\u001b[1m dzgroup_Lung Cancer \u001b[0m\u001b[1m dzgroup_Cirrhosis \u001b[0m\u001b[1m dzgroup_ARF/MOSF w/Sepsis \u001b[0m\u001b[1m dzgroup_Coma \u001b[0m\u001b[1m dzgroup_CHF \u001b[0m\u001b[1m dzgroup_Colon Cancer \u001b[0m\u001b[1m dzgroup_COPD \u001b[0m\u001b[1m dzgroup_MOSF w/Malig \u001b[0m\u001b[1m dzclass_Cancer \u001b[0m\u001b[1m dzclass_COPD/CHF/Cirrhosis \u001b[0m\u001b[1m dzclass_ARF/MOSF \u001b[0m\u001b[1m dzclass_Coma \u001b[0m\u001b[1m race_other \u001b[0m\u001b[1m race_white \u001b[0m\u001b[1m race_black \u001b[0m\u001b[1m race_hispanic \u001b[0m\u001b[1m race_asian \u001b[0m\u001b[1m dnr_no dnr \u001b[0m\u001b[1m dnr_dnr after sadm \u001b[0m\u001b[1m dnr_dnr before sadm \u001b[0m\u001b[1m death \u001b[0m\u001b[1m hospdead \u001b[0m\n",
      "     │\u001b[90m Float64 \u001b[0m\u001b[90m Int64 \u001b[0m\u001b[90m Int64  \u001b[0m\u001b[90m Int64  \u001b[0m\u001b[90m Float64 \u001b[0m\u001b[90m Int64 \u001b[0m\u001b[90m Float64 \u001b[0m\u001b[90m Float64 \u001b[0m\u001b[90m Float64 \u001b[0m\u001b[90m Float64 \u001b[0m\u001b[90m Int64 \u001b[0m\u001b[90m Float64  \u001b[0m\u001b[90m Float64   \u001b[0m\u001b[90m Int64 \u001b[0m\u001b[90m Float64 \u001b[0m\u001b[90m Float64 \u001b[0m\u001b[90m Int64  \u001b[0m\u001b[90m Float64 \u001b[0m\u001b[90m Float64 \u001b[0m\u001b[90m Float64 \u001b[0m\u001b[90m Float64 \u001b[0m\u001b[90m Float64 \u001b[0m\u001b[90m Float64 \u001b[0m\u001b[90m Float64  \u001b[0m\u001b[90m Float64 \u001b[0m\u001b[90m Float64 \u001b[0m\u001b[90m Float64 \u001b[0m\u001b[90m Float64 \u001b[0m\u001b[90m Float64 \u001b[0m\u001b[90m Float64    \u001b[0m\u001b[90m Int64  \u001b[0m\u001b[90m Float64   \u001b[0m\u001b[90m Int64    \u001b[0m\u001b[90m Int64    \u001b[0m\u001b[90m Int64    \u001b[0m\u001b[90m Int64      \u001b[0m\u001b[90m Int64               \u001b[0m\u001b[90m Int64             \u001b[0m\u001b[90m Int64                     \u001b[0m\u001b[90m Int64        \u001b[0m\u001b[90m Int64       \u001b[0m\u001b[90m Int64                \u001b[0m\u001b[90m Int64        \u001b[0m\u001b[90m Int64                \u001b[0m\u001b[90m Int64          \u001b[0m\u001b[90m Int64                      \u001b[0m\u001b[90m Int64            \u001b[0m\u001b[90m Int64        \u001b[0m\u001b[90m Int64      \u001b[0m\u001b[90m Int64      \u001b[0m\u001b[90m Int64      \u001b[0m\u001b[90m Int64         \u001b[0m\u001b[90m Int64      \u001b[0m\u001b[90m Int64      \u001b[0m\u001b[90m Int64              \u001b[0m\u001b[90m Int64               \u001b[0m\u001b[90m Int64 \u001b[0m\u001b[90m Int64    \u001b[0m\n",
      "─────┼────────────────────────────────────────────────────────────────────────────────────────────────────────────────────────────────────────────────────────────────────────────────────────────────────────────────────────────────────────────────────────────────────────────────────────────────────────────────────────────────────────────────────────────────────────────────────────────────────────────────────────────────────────────────────────────────────────────────────────────────────────────────────────────────────────────────────────────────────────────────────────────────────────────────────────────────────────────────────────────────────────────────────────────────────────────────\n",
      "   1 │  62.85       5    2029       0     11.0      0   9715.0      NaN      7.0  33.8984     20  0.262939  0.0369949      1     0.5      0.25       5     97.0      6.0     69.0     22.0  36.0     388.0    0.199982  1.19995    141.0  7.45996      7.0      7.0         2.0       3      NaN           0         0         1           0                    1                  0                          0             0            0                     0             0                     0               1                           0                 0             0           1           0           0              0           0           1                   0                    0      0         0\n",
      "   2 │  52.747     17      47       2     12.0      0  41094.0      NaN     13.0  20.5        45  0.790894  0.664917       4     0.75     0.5       17     70.0      8.5     88.0     28.0  37.3984  231.656  2.19971   2.0        134.0  7.45996      0.0      0.0         1.0       1        5.0         0         0         0           1                    0                  1                          0             0            0                     0             0                     0               0                           1                 0             0           0           1           0              0           0           1                   0                    0      1         0"
     ]
    }
   ],
   "source": [
    "support2Clean = hcat(support2Num, support2Cat, support2Target);\n",
    "CSV.write(\"support2_cleaned.csv\", support2Clean);\n",
    "\n",
    "show(first(support2Clean,2), allcols = true, allrows = true)"
   ]
  }
 ],
 "metadata": {
  "kernelspec": {
   "display_name": "Julia 1.10.5",
   "language": "julia",
   "name": "julia-1.10"
  },
  "language_info": {
   "file_extension": ".jl",
   "mimetype": "application/julia",
   "name": "julia",
   "version": "1.10.5"
  }
 },
 "nbformat": 4,
 "nbformat_minor": 5
}
