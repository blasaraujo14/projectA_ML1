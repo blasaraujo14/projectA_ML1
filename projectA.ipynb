{
 "cells": [
  {
   "cell_type": "code",
   "execution_count": 8,
   "id": "941d5006-b0d9-4644-970f-5567d255e1a2",
   "metadata": {},
   "outputs": [],
   "source": [
    "# Libraries used\n",
    "using DataFrames\n",
    "using CSV"
   ]
  },
  {
   "cell_type": "code",
   "execution_count": 40,
   "id": "344ee558",
   "metadata": {},
   "outputs": [
    {
     "data": {
      "text/html": [
       "<div><div style = \"float: left;\"><span>2×48 DataFrame</span></div><div style = \"clear: both;\"></div></div><div class = \"data-frame\" style = \"overflow-x: scroll;\"><table class = \"data-frame\" style = \"margin-bottom: 6px;\"><thead><tr class = \"header\"><th class = \"rowNumber\" style = \"font-weight: bold; text-align: right;\">Row</th><th style = \"text-align: left;\">id</th><th style = \"text-align: left;\">age</th><th style = \"text-align: left;\">death</th><th style = \"text-align: left;\">sex</th><th style = \"text-align: left;\">hospdead</th><th style = \"text-align: left;\">slos</th><th style = \"text-align: left;\">d.time</th><th style = \"text-align: left;\">dzgroup</th><th style = \"text-align: left;\">dzclass</th><th style = \"text-align: left;\">num.co</th><th style = \"text-align: left;\">edu</th><th style = \"text-align: left;\">income</th><th style = \"text-align: left;\">scoma</th><th style = \"text-align: left;\">charges</th><th style = \"text-align: left;\">totcst</th><th style = \"text-align: left;\">totmcst</th><th style = \"text-align: left;\">avtisst</th><th style = \"text-align: left;\">race</th><th style = \"text-align: left;\">sps</th><th style = \"text-align: left;\">aps</th><th style = \"text-align: left;\">surv2m</th><th style = \"text-align: left;\">surv6m</th><th style = \"text-align: left;\">hday</th><th style = \"text-align: left;\">diabetes</th><th style = \"text-align: left;\">dementia</th><th style = \"text-align: left;\">ca</th><th style = \"text-align: left;\">prg2m</th><th style = \"text-align: left;\">prg6m</th><th style = \"text-align: left;\">dnr</th><th style = \"text-align: left;\">dnrday</th><th style = \"text-align: left;\">meanbp</th><th style = \"text-align: left;\">wblc</th><th style = \"text-align: left;\">hrt</th><th style = \"text-align: left;\">resp</th><th style = \"text-align: left;\">temp</th><th style = \"text-align: left;\">pafi</th><th style = \"text-align: left;\">alb</th><th style = \"text-align: left;\">bili</th><th style = \"text-align: left;\">crea</th><th style = \"text-align: left;\">sod</th><th style = \"text-align: left;\">ph</th><th style = \"text-align: left;\">glucose</th><th style = \"text-align: left;\">bun</th><th style = \"text-align: left;\">urine</th><th style = \"text-align: left;\">adlp</th><th style = \"text-align: left;\">adls</th><th style = \"text-align: left;\">sfdm2</th><th style = \"text-align: left;\">adlsc</th></tr><tr class = \"subheader headerLastRow\"><th class = \"rowNumber\" style = \"font-weight: bold; text-align: right;\"></th><th title = \"Int64\" style = \"text-align: left;\">Int64</th><th title = \"Float64\" style = \"text-align: left;\">Float64</th><th title = \"Int64\" style = \"text-align: left;\">Int64</th><th title = \"String7\" style = \"text-align: left;\">String7</th><th title = \"Int64\" style = \"text-align: left;\">Int64</th><th title = \"Int64\" style = \"text-align: left;\">Int64</th><th title = \"Int64\" style = \"text-align: left;\">Int64</th><th title = \"String31\" style = \"text-align: left;\">String31</th><th title = \"String31\" style = \"text-align: left;\">String31</th><th title = \"Int64\" style = \"text-align: left;\">Int64</th><th title = \"Union{Missing, Int64}\" style = \"text-align: left;\">Int64?</th><th title = \"Union{Missing, String15}\" style = \"text-align: left;\">String15?</th><th title = \"Union{Missing, Int64}\" style = \"text-align: left;\">Int64?</th><th title = \"Union{Missing, Float64}\" style = \"text-align: left;\">Float64?</th><th title = \"Union{Missing, Float64}\" style = \"text-align: left;\">Float64?</th><th title = \"Union{Missing, Float64}\" style = \"text-align: left;\">Float64?</th><th title = \"Union{Missing, Float64}\" style = \"text-align: left;\">Float64?</th><th title = \"Union{Missing, String15}\" style = \"text-align: left;\">String15?</th><th title = \"Union{Missing, Float64}\" style = \"text-align: left;\">Float64?</th><th title = \"Union{Missing, Int64}\" style = \"text-align: left;\">Int64?</th><th title = \"Union{Missing, Float64}\" style = \"text-align: left;\">Float64?</th><th title = \"Union{Missing, Float64}\" style = \"text-align: left;\">Float64?</th><th title = \"Int64\" style = \"text-align: left;\">Int64</th><th title = \"Int64\" style = \"text-align: left;\">Int64</th><th title = \"Int64\" style = \"text-align: left;\">Int64</th><th title = \"String15\" style = \"text-align: left;\">String15</th><th title = \"Union{Missing, Float64}\" style = \"text-align: left;\">Float64?</th><th title = \"Union{Missing, Float64}\" style = \"text-align: left;\">Float64?</th><th title = \"Union{Missing, String15}\" style = \"text-align: left;\">String15?</th><th title = \"Union{Missing, Int64}\" style = \"text-align: left;\">Int64?</th><th title = \"Union{Missing, Float64}\" style = \"text-align: left;\">Float64?</th><th title = \"Union{Missing, Float64}\" style = \"text-align: left;\">Float64?</th><th title = \"Union{Missing, Float64}\" style = \"text-align: left;\">Float64?</th><th title = \"Union{Missing, Int64}\" style = \"text-align: left;\">Int64?</th><th title = \"Union{Missing, Float64}\" style = \"text-align: left;\">Float64?</th><th title = \"Union{Missing, Float64}\" style = \"text-align: left;\">Float64?</th><th title = \"Union{Missing, Float64}\" style = \"text-align: left;\">Float64?</th><th title = \"Union{Missing, Float64}\" style = \"text-align: left;\">Float64?</th><th title = \"Union{Missing, Float64}\" style = \"text-align: left;\">Float64?</th><th title = \"Union{Missing, Int64}\" style = \"text-align: left;\">Int64?</th><th title = \"Union{Missing, Float64}\" style = \"text-align: left;\">Float64?</th><th title = \"Union{Missing, Float64}\" style = \"text-align: left;\">Float64?</th><th title = \"Union{Missing, Float64}\" style = \"text-align: left;\">Float64?</th><th title = \"Union{Missing, Float64}\" style = \"text-align: left;\">Float64?</th><th title = \"Union{Missing, Int64}\" style = \"text-align: left;\">Int64?</th><th title = \"Union{Missing, Int64}\" style = \"text-align: left;\">Int64?</th><th title = \"Union{Missing, String31}\" style = \"text-align: left;\">String31?</th><th title = \"Float64\" style = \"text-align: left;\">Float64</th></tr></thead><tbody><tr><td class = \"rowNumber\" style = \"font-weight: bold; text-align: right;\">1</td><td style = \"text-align: right;\">1</td><td style = \"text-align: right;\">62.85</td><td style = \"text-align: right;\">0</td><td style = \"text-align: left;\">male</td><td style = \"text-align: right;\">0</td><td style = \"text-align: right;\">5</td><td style = \"text-align: right;\">2029</td><td style = \"text-align: left;\">Lung Cancer</td><td style = \"text-align: left;\">Cancer</td><td style = \"text-align: right;\">0</td><td style = \"text-align: right;\">11</td><td style = \"text-align: left;\">$11-$25k</td><td style = \"text-align: right;\">0</td><td style = \"text-align: right;\">9715.0</td><td style = \"font-style: italic; text-align: right;\">missing</td><td style = \"font-style: italic; text-align: right;\">missing</td><td style = \"text-align: right;\">7.0</td><td style = \"text-align: left;\">other</td><td style = \"text-align: right;\">33.8984</td><td style = \"text-align: right;\">20</td><td style = \"text-align: right;\">0.262939</td><td style = \"text-align: right;\">0.0369949</td><td style = \"text-align: right;\">1</td><td style = \"text-align: right;\">0</td><td style = \"text-align: right;\">0</td><td style = \"text-align: left;\">metastatic</td><td style = \"text-align: right;\">0.5</td><td style = \"text-align: right;\">0.25</td><td style = \"text-align: left;\">no dnr</td><td style = \"text-align: right;\">5</td><td style = \"text-align: right;\">97.0</td><td style = \"text-align: right;\">6.0</td><td style = \"text-align: right;\">69.0</td><td style = \"text-align: right;\">22</td><td style = \"text-align: right;\">36.0</td><td style = \"text-align: right;\">388.0</td><td style = \"text-align: right;\">1.7998</td><td style = \"text-align: right;\">0.199982</td><td style = \"text-align: right;\">1.19995</td><td style = \"text-align: right;\">141</td><td style = \"text-align: right;\">7.45996</td><td style = \"font-style: italic; text-align: right;\">missing</td><td style = \"font-style: italic; text-align: right;\">missing</td><td style = \"font-style: italic; text-align: right;\">missing</td><td style = \"text-align: right;\">7</td><td style = \"text-align: right;\">7</td><td style = \"font-style: italic; text-align: left;\">missing</td><td style = \"text-align: right;\">7.0</td></tr><tr><td class = \"rowNumber\" style = \"font-weight: bold; text-align: right;\">2</td><td style = \"text-align: right;\">2</td><td style = \"text-align: right;\">60.339</td><td style = \"text-align: right;\">1</td><td style = \"text-align: left;\">female</td><td style = \"text-align: right;\">1</td><td style = \"text-align: right;\">4</td><td style = \"text-align: right;\">4</td><td style = \"text-align: left;\">Cirrhosis</td><td style = \"text-align: left;\">COPD/CHF/Cirrhosis</td><td style = \"text-align: right;\">2</td><td style = \"text-align: right;\">12</td><td style = \"text-align: left;\">$11-$25k</td><td style = \"text-align: right;\">44</td><td style = \"text-align: right;\">34496.0</td><td style = \"font-style: italic; text-align: right;\">missing</td><td style = \"font-style: italic; text-align: right;\">missing</td><td style = \"text-align: right;\">29.0</td><td style = \"text-align: left;\">white</td><td style = \"text-align: right;\">52.6953</td><td style = \"text-align: right;\">74</td><td style = \"text-align: right;\">0.000999928</td><td style = \"text-align: right;\">0.0</td><td style = \"text-align: right;\">3</td><td style = \"text-align: right;\">0</td><td style = \"text-align: right;\">0</td><td style = \"text-align: left;\">no</td><td style = \"text-align: right;\">0.0</td><td style = \"text-align: right;\">0.0</td><td style = \"font-style: italic; text-align: left;\">missing</td><td style = \"font-style: italic; text-align: right;\">missing</td><td style = \"text-align: right;\">43.0</td><td style = \"text-align: right;\">17.0977</td><td style = \"text-align: right;\">112.0</td><td style = \"text-align: right;\">34</td><td style = \"text-align: right;\">34.5938</td><td style = \"text-align: right;\">98.0</td><td style = \"font-style: italic; text-align: right;\">missing</td><td style = \"font-style: italic; text-align: right;\">missing</td><td style = \"text-align: right;\">5.5</td><td style = \"text-align: right;\">132</td><td style = \"text-align: right;\">7.25</td><td style = \"font-style: italic; text-align: right;\">missing</td><td style = \"font-style: italic; text-align: right;\">missing</td><td style = \"font-style: italic; text-align: right;\">missing</td><td style = \"font-style: italic; text-align: right;\">missing</td><td style = \"text-align: right;\">1</td><td style = \"text-align: left;\">&lt;2 mo. follow-up</td><td style = \"text-align: right;\">1.0</td></tr></tbody></table></div>"
      ],
      "text/latex": [
       "\\begin{tabular}{r|cccccccccc}\n",
       "\t& id & age & death & sex & hospdead & slos & d.time & dzgroup & dzclass & \\\\\n",
       "\t\\hline\n",
       "\t& Int64 & Float64 & Int64 & String7 & Int64 & Int64 & Int64 & String31 & String31 & \\\\\n",
       "\t\\hline\n",
       "\t1 & 1 & 62.85 & 0 & male & 0 & 5 & 2029 & Lung Cancer & Cancer & $\\dots$ \\\\\n",
       "\t2 & 2 & 60.339 & 1 & female & 1 & 4 & 4 & Cirrhosis & COPD/CHF/Cirrhosis & $\\dots$ \\\\\n",
       "\\end{tabular}\n"
      ],
      "text/plain": [
       "\u001b[1m2×48 DataFrame\u001b[0m\n",
       "\u001b[1m Row \u001b[0m│\u001b[1m id    \u001b[0m\u001b[1m age     \u001b[0m\u001b[1m death \u001b[0m\u001b[1m sex     \u001b[0m\u001b[1m hospdead \u001b[0m\u001b[1m slos  \u001b[0m\u001b[1m d.time \u001b[0m\u001b[1m dzgroup     \u001b[0m\u001b[1m d\u001b[0m ⋯\n",
       "     │\u001b[90m Int64 \u001b[0m\u001b[90m Float64 \u001b[0m\u001b[90m Int64 \u001b[0m\u001b[90m String7 \u001b[0m\u001b[90m Int64    \u001b[0m\u001b[90m Int64 \u001b[0m\u001b[90m Int64  \u001b[0m\u001b[90m String31    \u001b[0m\u001b[90m S\u001b[0m ⋯\n",
       "─────┼──────────────────────────────────────────────────────────────────────────\n",
       "   1 │     1   62.85       0  male            0      5    2029  Lung Cancer  C ⋯\n",
       "   2 │     2   60.339      1  female          1      4       4  Cirrhosis    C\n",
       "\u001b[36m                                                              40 columns omitted\u001b[0m"
      ]
     },
     "metadata": {},
     "output_type": "display_data"
    }
   ],
   "source": [
    "support2 = CSV.read(\"support2.csv\", DataFrame, delim = ',');\n",
    "first(support2, 2)"
   ]
  },
  {
   "cell_type": "code",
   "execution_count": null,
   "id": "fea034ef",
   "metadata": {},
   "outputs": [],
   "source": [
    "id_col = [\"id\"];\n",
    "target_cols = [\"death\", \"hospdead\"];\n",
    "ordinal_feats = [\"id\", \"edu\", \"income\", \"sfdm2\"];\n",
    "\n",
    "categorical_feats = names(support2, Union{Missing, AbstractString});\n",
    "numerical_feats = names(select(support2, Not(ordinal_feats)), Union{Missing, Number});"
   ]
  },
  {
   "cell_type": "code",
   "execution_count": 43,
   "id": "363783b3",
   "metadata": {},
   "outputs": [
    {
     "name": "stdout",
     "output_type": "stream",
     "text": [
      "\u001b[1m44×7 DataFrame\u001b[0m\n",
      "\u001b[1m Row \u001b[0m│\u001b[1m variable \u001b[0m\u001b[1m mean      \u001b[0m\u001b[1m min               \u001b[0m\u001b[1m median   \u001b[0m\u001b[1m max          \u001b[0m\u001b[1m nmissing \u001b[0m\u001b[1m eltype                   \u001b[0m\n",
      "     │\u001b[90m Symbol   \u001b[0m\u001b[90m Union…    \u001b[0m\u001b[90m Any               \u001b[0m\u001b[90m Union…   \u001b[0m\u001b[90m Any          \u001b[0m\u001b[90m Int64    \u001b[0m\u001b[90m Type                     \u001b[0m\n",
      "─────┼────────────────────────────────────────────────────────────────────────────────────────────────────\n",
      "   1 │ age       62.6508    18.042             64.857    101.848              0  Float64\n",
      "   2 │ death     0.681054   0                  1.0       1                    0  Int64\n",
      "   3 │ sex      \u001b[90m           \u001b[0m female            \u001b[90m          \u001b[0m male                 0  String7\n",
      "   4 │ hospdead  0.259198   0                  0.0       1                    0  Int64\n",
      "   5 │ slos      17.863     3                  11.0      343                  0  Int64\n",
      "   6 │ d.time    478.45     3                  233.0     2029                 0  Int64\n",
      "   7 │ dzgroup  \u001b[90m           \u001b[0m ARF/MOSF w/Sepsis \u001b[90m          \u001b[0m MOSF w/Malig         0  String31\n",
      "   8 │ dzclass  \u001b[90m           \u001b[0m ARF/MOSF          \u001b[90m          \u001b[0m Coma                 0  String31\n",
      "   9 │ num.co    1.86864    0                  2.0       9                    0  Int64\n",
      "  10 │ scoma     12.0585    0                  0.0       100                  1  Union{Missing, Int64}\n",
      "  11 │ charges   59995.8    1169.0             25024.0   1.43542e6          172  Union{Missing, Float64}\n",
      "  12 │ totcst    30825.9    0.0                14452.7   633212.0           888  Union{Missing, Float64}\n",
      "  13 │ totmcst   28828.9    -102.72            13223.5   710682.0          3475  Union{Missing, Float64}\n",
      "  14 │ avtisst   22.6109    1.0                19.5      83.0                82  Union{Missing, Float64}\n",
      "  15 │ race     \u001b[90m           \u001b[0m asian             \u001b[90m          \u001b[0m white               42  Union{Missing, String15}\n",
      "  16 │ sps       25.5259    0.199982           23.8984   99.1875              1  Union{Missing, Float64}\n",
      "  17 │ aps       37.598     0                  34.0      143                  1  Union{Missing, Int64}\n",
      "  18 │ surv2m    0.63587    0.0                0.715942  0.969971             1  Union{Missing, Float64}\n",
      "  19 │ surv6m    0.520096   0.0                0.574951  0.947998             1  Union{Missing, Float64}\n",
      "  20 │ hday      4.4        1                  1.0       148                  0  Int64\n",
      "  21 │ diabetes  0.195277   0                  0.0       1                    0  Int64\n",
      "  22 │ dementia  0.0325096  0                  0.0       1                    0  Int64\n",
      "  23 │ ca       \u001b[90m           \u001b[0m metastatic        \u001b[90m          \u001b[0m yes                  0  String15\n",
      "  24 │ prg2m     0.618769   0.0                0.7       1.0               1649  Union{Missing, Float64}\n",
      "  25 │ prg6m     0.499679   0.0                0.5       1.0               1633  Union{Missing, Float64}\n",
      "  26 │ dnr      \u001b[90m           \u001b[0m dnr after sadm    \u001b[90m          \u001b[0m no dnr              30  Union{Missing, String15}\n",
      "  27 │ dnrday    14.5826    -88                9.0       285                 30  Union{Missing, Int64}\n",
      "  28 │ meanbp    84.5464    0.0                77.0      195.0                1  Union{Missing, Float64}\n",
      "  29 │ wblc      12.3477    0.0                10.5996   200.0              212  Union{Missing, Float64}\n",
      "  30 │ hrt       97.1567    0.0                100.0     300.0                1  Union{Missing, Float64}\n",
      "  31 │ resp      23.3303    0                  24.0      90                   1  Union{Missing, Int64}\n",
      "  32 │ temp      37.1033    31.6992            36.6953   41.6953              1  Union{Missing, Float64}\n",
      "  33 │ pafi      239.529    12.0               224.0     890.375           2325  Union{Missing, Float64}\n",
      "  34 │ alb       2.95052    0.399963           2.8999    29.0              3372  Union{Missing, Float64}\n",
      "  35 │ bili      2.55446    0.0999908          0.899902  63.0              2601  Union{Missing, Float64}\n",
      "  36 │ crea      1.77096    0.0999908          1.19995   21.5                67  Union{Missing, Float64}\n",
      "  37 │ sod       137.569    110                137.0     181                  1  Union{Missing, Int64}\n",
      "  38 │ ph        7.41536    6.8291             7.41992   7.76953           2284  Union{Missing, Float64}\n",
      "  39 │ glucose   159.873    0.0                135.0     1092.0            4500  Union{Missing, Float64}\n",
      "  40 │ bun       32.3495    1.0                23.0      300.0             4352  Union{Missing, Float64}\n",
      "  41 │ urine     2191.55    0.0                1968.0    9000.0            4862  Union{Missing, Float64}\n",
      "  42 │ adlp      1.15791    0                  0.0       7                 5641  Union{Missing, Int64}\n",
      "  43 │ adls      1.63738    0                  1.0       7                 2867  Union{Missing, Int64}\n",
      "  44 │ adlsc     1.88827    0.0                1.0       7.07324              0  Float64"
     ]
    }
   ],
   "source": [
    "summary = describe(select(support2, Not(ordinal_feats)))\n",
    "show(summary, allrows=true, allcols=true)"
   ]
  }
 ],
 "metadata": {
  "kernelspec": {
   "display_name": "Julia 1.10.5",
   "language": "julia",
   "name": "julia-1.10"
  },
  "language_info": {
   "file_extension": ".jl",
   "mimetype": "application/julia",
   "name": "julia",
   "version": "1.10.5"
  }
 },
 "nbformat": 4,
 "nbformat_minor": 5
}
