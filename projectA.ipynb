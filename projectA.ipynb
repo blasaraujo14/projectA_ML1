{
 "cells": [
  {
   "cell_type": "code",
   "execution_count": null,
   "id": "941d5006-b0d9-4644-970f-5567d255e1a2",
   "metadata": {},
   "outputs": [],
   "source": []
  }
 ],
 "metadata": {
  "kernelspec": {
   "display_name": "",
   "name": ""
  },
  "language_info": {
   "name": ""
  }
 },
 "nbformat": 4,
 "nbformat_minor": 5
}
