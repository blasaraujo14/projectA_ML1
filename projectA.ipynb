{
 "cells": [
  {
   "cell_type": "code",
   "execution_count": 4,
   "id": "941d5006-b0d9-4644-970f-5567d255e1a2",
   "metadata": {},
   "outputs": [],
   "source": [
    "# Libraries used\n",
    "using DataFrames\n",
    "using CSV"
   ]
  },
  {
   "cell_type": "code",
   "execution_count": null,
   "id": "344ee558",
   "metadata": {},
   "outputs": [],
   "source": [
    "german_ref = CSV.read(path, DataFrame)"
   ]
  }
 ],
 "metadata": {
  "kernelspec": {
   "display_name": "Julia 1.10.5",
   "language": "julia",
   "name": "julia-1.10"
  },
  "language_info": {
   "file_extension": ".jl",
   "mimetype": "application/julia",
   "name": "julia",
   "version": "1.10.5"
  }
 },
 "nbformat": 4,
 "nbformat_minor": 5
}
